{
 "cells": [
  {
   "cell_type": "code",
   "execution_count": 1,
   "metadata": {},
   "outputs": [],
   "source": [
    "from sympy import *\n",
    "init_printing(use_latex=True)\n",
    "from IPython.display import display"
   ]
  },
  {
   "cell_type": "markdown",
   "metadata": {},
   "source": [
    "1(a)"
   ]
  },
  {
   "cell_type": "code",
   "execution_count": 4,
   "metadata": {},
   "outputs": [
    {
     "data": {
      "image/png": "[encoded data removed]",
      "text/latex": [
       "$$e^{x^{x}}$$"
      ],
      "text/plain": [
       " ⎛ x⎞\n",
       " ⎝x ⎠\n",
       "ℯ    "
      ]
     },
     "metadata": {},
     "output_type": "display_data"
    },
    {
     "data": {
      "image/png": "[encoded data removed]",
      "text/latex": [
       "$$x^{x} \\left(\\log{\\left (x \\right )} + 1\\right) e^{x^{x}}$$"
      ],
      "text/plain": [
       "                 ⎛ x⎞\n",
       " x               ⎝x ⎠\n",
       "x ⋅(log(x) + 1)⋅ℯ    "
      ]
     },
     "metadata": {},
     "output_type": "display_data"
    }
   ],
   "source": [
    "x = symbols('x')\n",
    "exx = E**x**x\n",
    "display(exx)\n",
    "display(diff(exx,x))"
   ]
  },
  {
   "cell_type": "markdown",
   "metadata": {},
   "source": [
    "1(b) "
   ]
  },
  {
   "cell_type": "code",
   "execution_count": 20,
   "metadata": {},
   "outputs": [
    {
     "data": {
      "image/png": "[encoded data removed]",
      "text/latex": [
       "$$x \\cos{\\left (x \\right )}$$"
      ],
      "text/plain": [
       "x⋅cos(x)"
      ]
     },
     "metadata": {},
     "output_type": "display_data"
    },
    {
     "data": {
      "image/png": "[encoded data removed]",
      "text/latex": [
       "$$- \\frac{x^{3}}{2} + x$$"
      ],
      "text/plain": [
       "   3    \n",
       "  x     \n",
       "- ── + x\n",
       "  2     "
      ]
     },
     "metadata": {},
     "output_type": "display_data"
    },
    {
     "data": {
      "image/png": "[encoded data removed]",
      "text/plain": [
       "<matplotlib.figure.Figure at 0x11b2987f0>"
      ]
     },
     "metadata": {},
     "output_type": "display_data"
    }
   ],
   "source": [
    "%matplotlib inline\n",
    "x = symbols('x')\n",
    "xcosx = x * cos(x)\n",
    "display(xcosx)\n",
    "xcos_taylor_5 = series(xcosx,x,0,5).removeO()\n",
    "display(xcos_taylor_5)\n",
    "p = plot(xcosx, xcos_taylor_5, (x,-pi,pi), show=False)\n",
    "p[0].line_color='r'\n",
    "p[1].line_color='b'\n",
    "p.show()"
   ]
  },
  {
   "cell_type": "markdown",
   "metadata": {},
   "source": [
    "2(a) "
   ]
  },
  {
   "cell_type": "code",
   "execution_count": 36,
   "metadata": {},
   "outputs": [
    {
     "data": {
      "image/png": "[encoded data removed]",
      "text/latex": [
       "$$\\frac{\\cos^{3}{\\left (x \\right )}}{\\sin{\\left (x \\right )}}$$"
      ],
      "text/plain": [
       "   3   \n",
       "cos (x)\n",
       "───────\n",
       " sin(x)"
      ]
     },
     "metadata": {},
     "output_type": "display_data"
    },
    {
     "data": {
      "image/png": "[encoded data removed]",
      "text/latex": [
       "$$- \\frac{3}{8} + \\frac{1}{2} \\log{\\left (4 \\right )}$$"
      ],
      "text/plain": [
       "  3   log(4)\n",
       "- ─ + ──────\n",
       "  8     2   "
      ]
     },
     "metadata": {},
     "output_type": "display_data"
    }
   ],
   "source": [
    "x = symbols('x')\n",
    "display(cos(x)**3/sin(x))\n",
    "display(integrate(cos(x)**3/sin(x),(x,pi/6,pi/2)))"
   ]
  },
  {
   "cell_type": "markdown",
   "metadata": {},
   "source": [
    "2(b)"
   ]
  },
  {
   "cell_type": "code",
   "execution_count": 39,
   "metadata": {},
   "outputs": [
    {
     "data": {
      "image/png": "[encoded data removed]",
      "text/latex": [
       "$$- \\frac{\\pi}{8} + \\frac{1}{2}$$"
      ],
      "text/plain": [
       "  π   1\n",
       "- ─ + ─\n",
       "  8   2"
      ]
     },
     "execution_count": 39,
     "metadata": {},
     "output_type": "execute_result"
    }
   ],
   "source": [
    "x,y = symbols('x y')\n",
    "integrate(integrate(x/(1+y**2),(x,0,y)),(y,0,1))"
   ]
  },
  {
   "cell_type": "markdown",
   "metadata": {},
   "source": [
    "3(a)"
   ]
  },
  {
   "cell_type": "code",
   "execution_count": 49,
   "metadata": {},
   "outputs": [
    {
     "data": {
      "image/png": "[encoded data removed]",
      "text/latex": [
       "$$- a^{3} b + a^{3} c + a b^{3} - a c^{3} - b^{3} c + b c^{3}$$"
      ],
      "text/plain": [
       "   3      3        3      3    3        3\n",
       "- a ⋅b + a ⋅c + a⋅b  - a⋅c  - b ⋅c + b⋅c "
      ]
     },
     "metadata": {},
     "output_type": "display_data"
    },
    {
     "data": {
      "image/png": "[encoded data removed]",
      "text/latex": [
       "$$- \\left(a - b\\right) \\left(a - c\\right) \\left(b - c\\right) \\left(a + b + c\\right)$$"
      ],
      "text/plain": [
       "-(a - b)⋅(a - c)⋅(b - c)⋅(a + b + c)"
      ]
     },
     "metadata": {},
     "output_type": "display_data"
    }
   ],
   "source": [
    "a,b,c = symbols('a b c')\n",
    "mat1 = Matrix([\n",
    "    [1,a,a**3],\n",
    "    [1,b,b**3],\n",
    "    [1,c,c**3],\n",
    "]).det()\n",
    "display(mat1)\n",
    "display(mat1.factor())"
   ]
  },
  {
   "cell_type": "markdown",
   "metadata": {},
   "source": [
    "3(b) なんかおかしい"
   ]
  },
  {
   "cell_type": "code",
   "execution_count": 68,
   "metadata": {},
   "outputs": [
    {
     "data": {
      "image/png": "[encoded data removed]",
      "text/latex": [
       "$$\\left[\\begin{matrix}2 & -1 & -2\\\\-1 & 1 & 1\\\\-2 & 1 & 4\\end{matrix}\\right]$$"
      ],
      "text/plain": [
       "⎡2   -1  -2⎤\n",
       "⎢          ⎥\n",
       "⎢-1  1   1 ⎥\n",
       "⎢          ⎥\n",
       "⎣-2  1   4 ⎦"
      ]
     },
     "metadata": {},
     "output_type": "display_data"
    },
    {
     "data": {
      "image/png": "[encoded data removed]",
      "text/latex": [
       "$$1$$"
      ],
      "text/plain": [
       "1"
      ]
     },
     "metadata": {},
     "output_type": "display_data"
    },
    {
     "data": {
      "image/png": "[encoded data removed]",
      "text/latex": [
       "$$- \\sqrt{7} + 3$$"
      ],
      "text/plain": [
       "-√7 + 3"
      ]
     },
     "metadata": {},
     "output_type": "display_data"
    },
    {
     "data": {
      "image/png": "[encoded data removed]",
      "text/latex": [
       "$$\\sqrt{7} + 3$$"
      ],
      "text/plain": [
       "√7 + 3"
      ]
     },
     "metadata": {},
     "output_type": "display_data"
    },
    {
     "data": {
      "image/png": "[encoded data removed]",
      "text/latex": [
       "$$\\left[\\begin{matrix}1\\\\-1\\\\1\\end{matrix}\\right]$$"
      ],
      "text/plain": [
       "⎡1 ⎤\n",
       "⎢  ⎥\n",
       "⎢-1⎥\n",
       "⎢  ⎥\n",
       "⎣1 ⎦"
      ]
     },
     "metadata": {},
     "output_type": "display_data"
    },
    {
     "data": {
      "image/png": "[encoded data removed]",
      "text/latex": [
       "$$\\left[\\begin{matrix}- \\frac{- 2 \\left(-2 + \\sqrt{7}\\right) \\left(-1 + \\sqrt{7}\\right) - 1 + \\sqrt{7}}{\\left(-1 + \\sqrt{7}\\right) \\left(-1 + \\left(-2 + \\sqrt{7}\\right) \\left(-1 + \\sqrt{7}\\right)\\right)}\\\\- \\frac{-3 + \\sqrt{7}}{-1 + \\left(-2 + \\sqrt{7}\\right) \\left(-1 + \\sqrt{7}\\right)}\\\\1\\end{matrix}\\right]$$"
      ],
      "text/plain": [
       "⎡-(-2⋅(-2 + √7)⋅(-1 + √7) - 1 + √7)  ⎤\n",
       "⎢────────────────────────────────────⎥\n",
       "⎢(-1 + √7)⋅(-1 + (-2 + √7)⋅(-1 + √7))⎥\n",
       "⎢                                    ⎥\n",
       "⎢            -(-3 + √7)              ⎥\n",
       "⎢      ────────────────────────      ⎥\n",
       "⎢      -1 + (-2 + √7)⋅(-1 + √7)      ⎥\n",
       "⎢                                    ⎥\n",
       "⎣                 1                  ⎦"
      ]
     },
     "metadata": {},
     "output_type": "display_data"
    },
    {
     "data": {
      "image/png": "[encoded data removed]",
      "text/latex": [
       "$$\\left[\\begin{matrix}- \\frac{- 2 \\left(- \\sqrt{7} - 2\\right) \\left(- \\sqrt{7} - 1\\right) - \\sqrt{7} - 1}{\\left(-1 + \\left(- \\sqrt{7} - 2\\right) \\left(- \\sqrt{7} - 1\\right)\\right) \\left(- \\sqrt{7} - 1\\right)}\\\\- \\frac{-3 - \\sqrt{7}}{-1 + \\left(- \\sqrt{7} - 2\\right) \\left(- \\sqrt{7} - 1\\right)}\\\\1\\end{matrix}\\right]$$"
      ],
      "text/plain": [
       "⎡-(-2⋅(-√7 - 2)⋅(-√7 - 1) - √7 - 1)  ⎤\n",
       "⎢────────────────────────────────────⎥\n",
       "⎢(-1 + (-√7 - 2)⋅(-√7 - 1))⋅(-√7 - 1)⎥\n",
       "⎢                                    ⎥\n",
       "⎢            -(-3 - √7)              ⎥\n",
       "⎢      ────────────────────────      ⎥\n",
       "⎢      -1 + (-√7 - 2)⋅(-√7 - 1)      ⎥\n",
       "⎢                                    ⎥\n",
       "⎣                 1                  ⎦"
      ]
     },
     "metadata": {},
     "output_type": "display_data"
    },
    {
     "data": {
      "image/png": "[encoded data removed]",
      "text/latex": [
       "$$\\left[\\begin{matrix}\\frac{\\left(- 2 \\left(-2 + \\sqrt{7}\\right) \\left(-1 + \\sqrt{7}\\right) - 1 + \\sqrt{7}\\right) \\left(- 2 \\left(- \\sqrt{7} - 2\\right) \\left(- \\sqrt{7} - 1\\right) - \\sqrt{7} - 1\\right)}{\\left(-1 + \\sqrt{7}\\right) \\left(-1 + \\left(-2 + \\sqrt{7}\\right) \\left(-1 + \\sqrt{7}\\right)\\right) \\left(-1 + \\left(- \\sqrt{7} - 2\\right) \\left(- \\sqrt{7} - 1\\right)\\right) \\left(- \\sqrt{7} - 1\\right)} & \\frac{\\left(-3 - \\sqrt{7}\\right) \\left(- 2 \\left(-2 + \\sqrt{7}\\right) \\left(-1 + \\sqrt{7}\\right) - 1 + \\sqrt{7}\\right)}{\\left(-1 + \\sqrt{7}\\right) \\left(-1 + \\left(-2 + \\sqrt{7}\\right) \\left(-1 + \\sqrt{7}\\right)\\right) \\left(-1 + \\left(- \\sqrt{7} - 2\\right) \\left(- \\sqrt{7} - 1\\right)\\right)} & - \\frac{- 2 \\left(-2 + \\sqrt{7}\\right) \\left(-1 + \\sqrt{7}\\right) - 1 + \\sqrt{7}}{\\left(-1 + \\sqrt{7}\\right) \\left(-1 + \\left(-2 + \\sqrt{7}\\right) \\left(-1 + \\sqrt{7}\\right)\\right)}\\\\\\frac{\\left(-3 + \\sqrt{7}\\right) \\left(- 2 \\left(- \\sqrt{7} - 2\\right) \\left(- \\sqrt{7} - 1\\right) - \\sqrt{7} - 1\\right)}{\\left(-1 + \\left(-2 + \\sqrt{7}\\right) \\left(-1 + \\sqrt{7}\\right)\\right) \\left(-1 + \\left(- \\sqrt{7} - 2\\right) \\left(- \\sqrt{7} - 1\\right)\\right) \\left(- \\sqrt{7} - 1\\right)} & \\frac{\\left(-3 - \\sqrt{7}\\right) \\left(-3 + \\sqrt{7}\\right)}{\\left(-1 + \\left(-2 + \\sqrt{7}\\right) \\left(-1 + \\sqrt{7}\\right)\\right) \\left(-1 + \\left(- \\sqrt{7} - 2\\right) \\left(- \\sqrt{7} - 1\\right)\\right)} & - \\frac{-3 + \\sqrt{7}}{-1 + \\left(-2 + \\sqrt{7}\\right) \\left(-1 + \\sqrt{7}\\right)}\\\\- \\frac{- 2 \\left(- \\sqrt{7} - 2\\right) \\left(- \\sqrt{7} - 1\\right) - \\sqrt{7} - 1}{\\left(-1 + \\left(- \\sqrt{7} - 2\\right) \\left(- \\sqrt{7} - 1\\right)\\right) \\left(- \\sqrt{7} - 1\\right)} & - \\frac{-3 - \\sqrt{7}}{-1 + \\left(- \\sqrt{7} - 2\\right) \\left(- \\sqrt{7} - 1\\right)} & 1\\end{matrix}\\right]$$"
      ],
      "text/plain": [
       "⎡   (-2⋅(-2 + √7)⋅(-1 + √7) - 1 + √7)⋅(-2⋅(-√7 - 2)⋅(-√7 - 1) - √7 - 1)       \n",
       "⎢─────────────────────────────────────────────────────────────────────────  ──\n",
       "⎢(-1 + √7)⋅(-1 + (-2 + √7)⋅(-1 + √7))⋅(-1 + (-√7 - 2)⋅(-√7 - 1))⋅(-√7 - 1)  (-\n",
       "⎢                                                                             \n",
       "⎢               (-3 + √7)⋅(-2⋅(-√7 - 2)⋅(-√7 - 1) - √7 - 1)                   \n",
       "⎢     ───────────────────────────────────────────────────────────────         \n",
       "⎢     (-1 + (-2 + √7)⋅(-1 + √7))⋅(-1 + (-√7 - 2)⋅(-√7 - 1))⋅(-√7 - 1)         \n",
       "⎢                                                                             \n",
       "⎢                  -(-2⋅(-√7 - 2)⋅(-√7 - 1) - √7 - 1)                         \n",
       "⎢                  ────────────────────────────────────                       \n",
       "⎣                  (-1 + (-√7 - 2)⋅(-√7 - 1))⋅(-√7 - 1)                       \n",
       "\n",
       "        (-3 - √7)⋅(-2⋅(-2 + √7)⋅(-1 + √7) - 1 + √7)            -(-2⋅(-2 + √7)⋅\n",
       "─────────────────────────────────────────────────────────────  ───────────────\n",
       "1 + √7)⋅(-1 + (-2 + √7)⋅(-1 + √7))⋅(-1 + (-√7 - 2)⋅(-√7 - 1))  (-1 + √7)⋅(-1 +\n",
       "                                                                              \n",
       "                    (-3 - √7)⋅(-3 + √7)                                    -(-\n",
       "   ─────────────────────────────────────────────────────             ─────────\n",
       "   (-1 + (-2 + √7)⋅(-1 + √7))⋅(-1 + (-√7 - 2)⋅(-√7 - 1))             -1 + (-2 \n",
       "                                                                              \n",
       "                       -(-3 - √7)                                             \n",
       "                 ────────────────────────                                     \n",
       "                 -1 + (-√7 - 2)⋅(-√7 - 1)                                     \n",
       "\n",
       "(-1 + √7) - 1 + √7)  ⎤\n",
       "─────────────────────⎥\n",
       " (-2 + √7)⋅(-1 + √7))⎥\n",
       "                     ⎥\n",
       "3 + √7)              ⎥\n",
       "───────────────      ⎥\n",
       "+ √7)⋅(-1 + √7)      ⎥\n",
       "                     ⎥\n",
       "                     ⎥\n",
       "  1                  ⎥\n",
       "                     ⎦"
      ]
     },
     "metadata": {},
     "output_type": "display_data"
    }
   ],
   "source": [
    "A = Matrix([\n",
    "    [2,-1,-2],\n",
    "    [-1,1,1],\n",
    "    [-2,1,4],\n",
    "])\n",
    "display(A)\n",
    "lambda_1 = A.eigenvects()[0][0]\n",
    "v1 = Matrix(A.eigenvects()[0][2])\n",
    "lambda_2 = A.eigenvects()[1][0]\n",
    "v2 = Matrix(A.eigenvects()[1][2])\n",
    "lambda_3 = A.eigenvects()[2][0]\n",
    "v3 = Matrix(A.eigenvects()[2][2])\n",
    "\n",
    "display(lambda_1, lambda_2, lambda_3)\n",
    "display(v1,v2,v3)\n",
    "\n",
    "display(v2*v3.T)"
   ]
  },
  {
   "cell_type": "markdown",
   "metadata": {},
   "source": [
    "4"
   ]
  },
  {
   "cell_type": "code",
   "execution_count": 83,
   "metadata": {},
   "outputs": [
    {
     "data": {
      "image/png": "[encoded data removed]",
      "text/latex": [
       "$$\\frac{3^{x}}{3} + 3 \\cdot 3^{- x}$$"
      ],
      "text/plain": [
       " x        \n",
       "3       -x\n",
       "── + 3⋅3  \n",
       "3         "
      ]
     },
     "metadata": {},
     "output_type": "display_data"
    },
    {
     "data": {
      "image/png": "[encoded data removed]",
      "text/latex": [
       "$$\\frac{1}{2}$$"
      ],
      "text/plain": [
       "1/2"
      ]
     },
     "metadata": {},
     "output_type": "display_data"
    },
    {
     "data": {
      "image/png": "[encoded data removed]",
      "text/latex": [
       "$$\\frac{4 \\sqrt{3}}{3}$$"
      ],
      "text/plain": [
       "4⋅√3\n",
       "────\n",
       " 3  "
      ]
     },
     "metadata": {},
     "output_type": "display_data"
    }
   ],
   "source": [
    "x = symbols('x')\n",
    "def f(x):\n",
    "    return 3**x + 3**-x\n",
    "display(expand(f(x-1))) # アイウ\n",
    "display(solve(f(x-1)-f(x),x)[0]) # エオ\n",
    "display(f(Rational(1/2))) #カキク"
   ]
  },
  {
   "cell_type": "markdown",
   "metadata": {},
   "source": [
    "5"
   ]
  },
  {
   "cell_type": "markdown",
   "metadata": {},
   "source": [
    "y軸上で共有点を持つ って x=0だよな？？？"
   ]
  },
  {
   "cell_type": "code",
   "execution_count": 95,
   "metadata": {},
   "outputs": [
    {
     "data": {
      "image/png": "[encoded data removed]",
      "text/latex": [
       "$$\\left \\{ u : 4 b + 6, \\quad v : b - 3\\right \\}$$"
      ],
      "text/plain": [
       "{u: 4⋅b + 6, v: b - 3}"
      ]
     },
     "metadata": {},
     "output_type": "display_data"
    },
    {
     "data": {
      "image/png": "[encoded data removed]",
      "text/latex": [
       "$$\\left [ \\left \\{ a : \\frac{v}{4} - \\frac{3}{2}\\right \\}\\right ]$$"
      ],
      "text/plain": [
       "⎡⎧   v   3⎫⎤\n",
       "⎢⎨a: ─ - ─⎬⎥\n",
       "⎣⎩   4   2⎭⎦"
      ]
     },
     "metadata": {},
     "output_type": "display_data"
    }
   ],
   "source": [
    "a,b,c,u,v,x = symbols('a b c u v x')\n",
    "def f(x):\n",
    "    return 3*a*x**2 - (8*a+6)*x + 4*a + 6\n",
    "def g(x):\n",
    "    return 3*b*x**2 + u*x + v\n",
    "\n",
    "display(solve([integrate(g(x),(x,-1,0)) + 6, g(-1)+9], [u,v])) # アイウエオ\n",
    "\n",
    "display(solve(f(0)-g(0),[a,b])) # ????"
   ]
  },
  {
   "cell_type": "code",
   "execution_count": null,
   "metadata": {},
   "outputs": [],
   "source": []
  }
 ],
 "metadata": {
  "kernelspec": {
   "display_name": "Python 3",
   "language": "python",
   "name": "python3"
  },
  "language_info": {
   "codemirror_mode": {
    "name": "ipython",
    "version": 3
   },
   "file_extension": ".py",
   "mimetype": "text/x-python",
   "name": "python",
   "nbconvert_exporter": "python",
   "pygments_lexer": "ipython3",
   "version": "3.6.4"
  }
 },
 "nbformat": 4,
 "nbformat_minor": 2
}
