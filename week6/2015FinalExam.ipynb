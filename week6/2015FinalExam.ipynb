{
 "cells": [
  {
   "cell_type": "code",
   "execution_count": 1,
   "metadata": {},
   "outputs": [],
   "source": [
    "from sympy import *\n",
    "init_printing(use_latex=True)\n",
    "from IPython.display import display"
   ]
  },
  {
   "cell_type": "markdown",
   "metadata": {},
   "source": [
    "## 1"
   ]
  },
  {
   "cell_type": "code",
   "execution_count": 2,
   "metadata": {},
   "outputs": [
    {
     "data": {
      "image/png": "[encoded data removed]",
      "text/latex": [
       "$$\\frac{x \\left(2 x^{3} + x + 1\\right)}{\\sqrt{x^{2} + 1} \\left(x^{3} + 1\\right)^{\\frac{2}{3}}}$$"
      ],
      "text/plain": [
       "      ⎛   3        ⎞   \n",
       "    x⋅⎝2⋅x  + x + 1⎠   \n",
       "───────────────────────\n",
       "   ________         2/3\n",
       "  ╱  2      ⎛ 3    ⎞   \n",
       "╲╱  x  + 1 ⋅⎝x  + 1⎠   "
      ]
     },
     "execution_count": 2,
     "metadata": {},
     "output_type": "execute_result"
    }
   ],
   "source": [
    "x = symbols('x')\n",
    "ans = diff(sqrt(x**2 + 1) * (x**3+1)**(Rational(1)/3),x)\n",
    "simplify(ans)"
   ]
  },
  {
   "cell_type": "code",
   "execution_count": 3,
   "metadata": {},
   "outputs": [
    {
     "data": {
      "image/png": "[encoded data removed]",
      "text/latex": [
       "$$3 a \\sin^{2}{\\left (t \\right )} \\cos{\\left (t \\right )}$$"
      ],
      "text/plain": [
       "       2          \n",
       "3⋅a⋅sin (t)⋅cos(t)"
      ]
     },
     "metadata": {},
     "output_type": "display_data"
    },
    {
     "data": {
      "image/png": "[encoded data removed]",
      "text/latex": [
       "$$- 3 a \\sin{\\left (t \\right )} \\cos^{2}{\\left (t \\right )}$$"
      ],
      "text/plain": [
       "               2   \n",
       "-3⋅a⋅sin(t)⋅cos (t)"
      ]
     },
     "metadata": {},
     "output_type": "display_data"
    },
    {
     "data": {
      "image/png": "[encoded data removed]",
      "text/latex": [
       "$$- \\frac{\\sin{\\left (t \\right )}}{\\cos{\\left (t \\right )}}$$"
      ],
      "text/plain": [
       "-sin(t) \n",
       "────────\n",
       " cos(t) "
      ]
     },
     "metadata": {},
     "output_type": "display_data"
    }
   ],
   "source": [
    "a, t, x, y = symbols('a t x y')\n",
    "\n",
    "fx = a * cos(t) ** 3\n",
    "fy = a * sin(t) ** 3\n",
    "\n",
    "# dy / dt\n",
    "dy_dt = diff(fy, t)\n",
    "display(dy_dt)\n",
    "\n",
    "# dx / dt\n",
    "dx_dt = diff(fx, t)\n",
    "display(dx_dt)\n",
    "\n",
    "ans = dy_dt / dx_dt\n",
    "display(ans)"
   ]
  },
  {
   "cell_type": "markdown",
   "metadata": {},
   "source": [
    "## 2"
   ]
  },
  {
   "cell_type": "code",
   "execution_count": 4,
   "metadata": {
    "scrolled": true
   },
   "outputs": [
    {
     "data": {
      "image/png": "[encoded data removed]",
      "text/latex": [
       "$$\\frac{1}{4 \\sin^{2}{\\left (x \\right )} + \\cos^{2}{\\left (x \\right )}}$$"
      ],
      "text/plain": [
       "         1         \n",
       "───────────────────\n",
       "     2         2   \n",
       "4⋅sin (x) + cos (x)"
      ]
     },
     "metadata": {},
     "output_type": "display_data"
    },
    {
     "data": {
      "image/png": "[encoded data removed]",
      "text/latex": [
       "$$- \\frac{362 \\sqrt{3} i \\log{\\left (\\tan{\\left (\\frac{x}{2} \\right )} - i \\sqrt{- 4 \\sqrt{3} + 7} \\right )}}{9360 \\sqrt{- 4 \\sqrt{3} + 7} + 5404 \\sqrt{3} \\sqrt{- 4 \\sqrt{3} + 7}} - \\frac{627 i \\log{\\left (\\tan{\\left (\\frac{x}{2} \\right )} - i \\sqrt{- 4 \\sqrt{3} + 7} \\right )}}{9360 \\sqrt{- 4 \\sqrt{3} + 7} + 5404 \\sqrt{3} \\sqrt{- 4 \\sqrt{3} + 7}} + \\frac{627 i \\log{\\left (\\tan{\\left (\\frac{x}{2} \\right )} + i \\sqrt{- 4 \\sqrt{3} + 7} \\right )}}{9360 \\sqrt{- 4 \\sqrt{3} + 7} + 5404 \\sqrt{3} \\sqrt{- 4 \\sqrt{3} + 7}} + \\frac{362 \\sqrt{3} i \\log{\\left (\\tan{\\left (\\frac{x}{2} \\right )} + i \\sqrt{- 4 \\sqrt{3} + 7} \\right )}}{9360 \\sqrt{- 4 \\sqrt{3} + 7} + 5404 \\sqrt{3} \\sqrt{- 4 \\sqrt{3} + 7}} - \\frac{362 \\sqrt{3} i \\sqrt{- 4 \\sqrt{3} + 7} \\sqrt{4 \\sqrt{3} + 7} \\log{\\left (\\tan{\\left (\\frac{x}{2} \\right )} - i \\sqrt{4 \\sqrt{3} + 7} \\right )}}{9360 \\sqrt{- 4 \\sqrt{3} + 7} + 5404 \\sqrt{3} \\sqrt{- 4 \\sqrt{3} + 7}} - \\frac{627 i \\sqrt{- 4 \\sqrt{3} + 7} \\sqrt{4 \\sqrt{3} + 7} \\log{\\left (\\tan{\\left (\\frac{x}{2} \\right )} - i \\sqrt{4 \\sqrt{3} + 7} \\right )}}{9360 \\sqrt{- 4 \\sqrt{3} + 7} + 5404 \\sqrt{3} \\sqrt{- 4 \\sqrt{3} + 7}} + \\frac{627 i \\sqrt{- 4 \\sqrt{3} + 7} \\sqrt{4 \\sqrt{3} + 7} \\log{\\left (\\tan{\\left (\\frac{x}{2} \\right )} + i \\sqrt{4 \\sqrt{3} + 7} \\right )}}{9360 \\sqrt{- 4 \\sqrt{3} + 7} + 5404 \\sqrt{3} \\sqrt{- 4 \\sqrt{3} + 7}} + \\frac{362 \\sqrt{3} i \\sqrt{- 4 \\sqrt{3} + 7} \\sqrt{4 \\sqrt{3} + 7} \\log{\\left (\\tan{\\left (\\frac{x}{2} \\right )} + i \\sqrt{4 \\sqrt{3} + 7} \\right )}}{9360 \\sqrt{- 4 \\sqrt{3} + 7} + 5404 \\sqrt{3} \\sqrt{- 4 \\sqrt{3} + 7}}$$"
      ],
      "text/plain": [
       "                ⎛   ⎛x⎞       ___________⎞                 ⎛   ⎛x⎞       _____\n",
       "    362⋅√3⋅ⅈ⋅log⎜tan⎜─⎟ - ⅈ⋅╲╱ -4⋅√3 + 7 ⎟        627⋅ⅈ⋅log⎜tan⎜─⎟ - ⅈ⋅╲╱ -4⋅√\n",
       "                ⎝   ⎝2⎠                  ⎠                 ⎝   ⎝2⎠            \n",
       "- ────────────────────────────────────────── - ───────────────────────────────\n",
       "         ___________             ___________          ___________             \n",
       "  9360⋅╲╱ -4⋅√3 + 7  + 5404⋅√3⋅╲╱ -4⋅√3 + 7    9360⋅╲╱ -4⋅√3 + 7  + 5404⋅√3⋅╲╱\n",
       "\n",
       "______⎞                   ⎛   ⎛x⎞       ___________⎞                     ⎛   ⎛\n",
       "3 + 7 ⎟          627⋅ⅈ⋅log⎜tan⎜─⎟ + ⅈ⋅╲╱ -4⋅√3 + 7 ⎟         362⋅√3⋅ⅈ⋅log⎜tan⎜\n",
       "      ⎠                   ⎝   ⎝2⎠                  ⎠                     ⎝   ⎝\n",
       "─────────── + ────────────────────────────────────────── + ───────────────────\n",
       "___________          ___________             ___________          ___________ \n",
       " -4⋅√3 + 7    9360⋅╲╱ -4⋅√3 + 7  + 5404⋅√3⋅╲╱ -4⋅√3 + 7    9360⋅╲╱ -4⋅√3 + 7  \n",
       "\n",
       "x⎞       ___________⎞                ___________   __________    ⎛   ⎛x⎞      \n",
       "─⎟ + ⅈ⋅╲╱ -4⋅√3 + 7 ⎟     362⋅√3⋅ⅈ⋅╲╱ -4⋅√3 + 7 ⋅╲╱ 4⋅√3 + 7 ⋅log⎜tan⎜─⎟ - ⅈ⋅╲\n",
       "2⎠                  ⎠                                            ⎝   ⎝2⎠      \n",
       "─────────────────────── - ────────────────────────────────────────────────────\n",
       "            ___________                     ___________             __________\n",
       "+ 5404⋅√3⋅╲╱ -4⋅√3 + 7               9360⋅╲╱ -4⋅√3 + 7  + 5404⋅√3⋅╲╱ -4⋅√3 + 7\n",
       "\n",
       " __________⎞           ___________   __________    ⎛   ⎛x⎞       __________⎞  \n",
       "╱ 4⋅√3 + 7 ⎟   627⋅ⅈ⋅╲╱ -4⋅√3 + 7 ⋅╲╱ 4⋅√3 + 7 ⋅log⎜tan⎜─⎟ - ⅈ⋅╲╱ 4⋅√3 + 7 ⎟  \n",
       "           ⎠                                       ⎝   ⎝2⎠                 ⎠  \n",
       "──────────── - ───────────────────────────────────────────────────────────── +\n",
       "_                               ___________             ___________           \n",
       "                         9360⋅╲╱ -4⋅√3 + 7  + 5404⋅√3⋅╲╱ -4⋅√3 + 7            \n",
       "\n",
       "         ___________   __________    ⎛   ⎛x⎞       __________⎞              __\n",
       " 627⋅ⅈ⋅╲╱ -4⋅√3 + 7 ⋅╲╱ 4⋅√3 + 7 ⋅log⎜tan⎜─⎟ + ⅈ⋅╲╱ 4⋅√3 + 7 ⎟   362⋅√3⋅ⅈ⋅╲╱ -\n",
       "                                     ⎝   ⎝2⎠                 ⎠                \n",
       " ───────────────────────────────────────────────────────────── + ─────────────\n",
       "                  ___________             ___________                         \n",
       "           9360⋅╲╱ -4⋅√3 + 7  + 5404⋅√3⋅╲╱ -4⋅√3 + 7                        93\n",
       "\n",
       "_________   __________    ⎛   ⎛x⎞       __________⎞\n",
       "4⋅√3 + 7 ⋅╲╱ 4⋅√3 + 7 ⋅log⎜tan⎜─⎟ + ⅈ⋅╲╱ 4⋅√3 + 7 ⎟\n",
       "                          ⎝   ⎝2⎠                 ⎠\n",
       "───────────────────────────────────────────────────\n",
       "     ___________             ___________           \n",
       "60⋅╲╱ -4⋅√3 + 7  + 5404⋅√3⋅╲╱ -4⋅√3 + 7            "
      ]
     },
     "execution_count": 4,
     "metadata": {},
     "output_type": "execute_result"
    }
   ],
   "source": [
    "x = symbols('x')\n",
    "fn = 1 / (cos(x)**2 + 4 * sin(x)**2)\n",
    "display(fn)\n",
    "integrate(fn, x)"
   ]
  },
  {
   "cell_type": "code",
   "execution_count": 5,
   "metadata": {},
   "outputs": [
    {
     "data": {
      "image/png": "[encoded data removed]",
      "text/latex": [
       "$$\\frac{2 \\sin{\\left (x \\right )} \\cos{\\left (x \\right )}}{\\left(\\cos^{2}{\\left (x \\right )} + 4 \\sin^{2}{\\left (2 \\right )}\\right)^{2}}$$"
      ],
      "text/plain": [
       "   2⋅sin(x)⋅cos(x)    \n",
       "──────────────────────\n",
       "                     2\n",
       "⎛   2           2   ⎞ \n",
       "⎝cos (x) + 4⋅sin (2)⎠ "
      ]
     },
     "execution_count": 5,
     "metadata": {},
     "output_type": "execute_result"
    }
   ],
   "source": [
    "x = symbols('x')\n",
    "fn = 1 / (cos(x)**2 + 4 * sin(2)**2)\n",
    "\n",
    "diff(fn, x)"
   ]
  },
  {
   "cell_type": "code",
   "execution_count": 6,
   "metadata": {},
   "outputs": [
    {
     "data": {
      "image/png": "[encoded data removed]",
      "text/latex": [
       "$$\\frac{1}{\\sqrt[3]{- x + y}}$$"
      ],
      "text/plain": [
       "    1     \n",
       "──────────\n",
       "3 ________\n",
       "╲╱ -x + y "
      ]
     },
     "metadata": {},
     "output_type": "display_data"
    },
    {
     "data": {
      "image/png": "[encoded data removed]",
      "text/latex": [
       "$$\\frac{9}{10}$$"
      ],
      "text/plain": [
       "9/10"
      ]
     },
     "execution_count": 6,
     "metadata": {},
     "output_type": "execute_result"
    }
   ],
   "source": [
    "n, x, y = symbols('n x y')\n",
    "fn = 1 / ((y-x)**(Rational(1)/3))\n",
    "display(fn)\n",
    "\n",
    "eq = integrate( integrate(fn, (x, 0, y)), (y, 1/n, 1))\n",
    "\n",
    "limit(eq, n, oo)"
   ]
  },
  {
   "cell_type": "code",
   "execution_count": 7,
   "metadata": {},
   "outputs": [
    {
     "data": {
      "image/png": "[encoded data removed]",
      "text/latex": [
       "$$\\left[\\begin{matrix}-2 & 0 & 0\\\\0 & 3 & 0\\\\0 & 0 & 4\\end{matrix}\\right]$$"
      ],
      "text/plain": [
       "⎡-2  0  0⎤\n",
       "⎢        ⎥\n",
       "⎢0   3  0⎥\n",
       "⎢        ⎥\n",
       "⎣0   0  4⎦"
      ]
     },
     "metadata": {},
     "output_type": "display_data"
    }
   ],
   "source": [
    "A = Matrix([[1, -1, 1], [-7, 2, 1], [2, 1, 2]])\n",
    "P, D = A.diagonalize() \n",
    "\n",
    "display(D)"
   ]
  },
  {
   "cell_type": "markdown",
   "metadata": {},
   "source": [
    "## 3"
   ]
  },
  {
   "cell_type": "code",
   "execution_count": 8,
   "metadata": {},
   "outputs": [
    {
     "data": {
      "image/png": "[encoded data removed]",
      "text/latex": [
       "$$4 a b c$$"
      ],
      "text/plain": [
       "4⋅a⋅b⋅c"
      ]
     },
     "execution_count": 8,
     "metadata": {},
     "output_type": "execute_result"
    }
   ],
   "source": [
    "a, b, c = symbols('a b c')\n",
    "A = Matrix([[0, c, b], [c, 0 , a], [b, a, 0]])\n",
    "B = Matrix([[0, 1, 1], [1, 0, 1], [1, 1, 0]])\n",
    "\n",
    "B_A = B*A\n",
    "simplify(B_A.det())"
   ]
  },
  {
   "cell_type": "markdown",
   "metadata": {},
   "source": [
    "## 4"
   ]
  },
  {
   "cell_type": "code",
   "execution_count": 9,
   "metadata": {},
   "outputs": [],
   "source": [
    "x = symbols('x')\n",
    "\n",
    "f1 = x\n",
    "f2 = -3 * x + 12"
   ]
  },
  {
   "cell_type": "code",
   "execution_count": 10,
   "metadata": {},
   "outputs": [
    {
     "data": {
      "image/png": "[encoded data removed]",
      "text/latex": [
       "$$\\frac{x^{2}}{2}$$"
      ],
      "text/plain": [
       " 2\n",
       "x \n",
       "──\n",
       "2 "
      ]
     },
     "metadata": {},
     "output_type": "display_data"
    }
   ],
   "source": [
    "g1 = integrate(f1, x)\n",
    "display(g1) # アイウ"
   ]
  },
  {
   "cell_type": "code",
   "execution_count": 11,
   "metadata": {},
   "outputs": [
    {
     "data": {
      "image/png": "[encoded data removed]",
      "text/latex": [
       "$$- \\frac{3 x^{2}}{2} + 12 x - 18$$"
      ],
      "text/plain": [
       "     2            \n",
       "  3⋅x             \n",
       "- ──── + 12⋅x - 18\n",
       "   2              "
      ]
     },
     "metadata": {},
     "output_type": "display_data"
    }
   ],
   "source": [
    "g2 = integrate(f2, (x, 3, x)) + g1.subs(x, 3)\n",
    "display(g2) # エオカキ"
   ]
  },
  {
   "cell_type": "code",
   "execution_count": null,
   "metadata": {},
   "outputs": [],
   "source": []
  },
  {
   "cell_type": "code",
   "execution_count": null,
   "metadata": {},
   "outputs": [],
   "source": []
  }
 ],
 "metadata": {
  "kernelspec": {
   "display_name": "Python 3",
   "language": "python",
   "name": "python3"
  },
  "language_info": {
   "codemirror_mode": {
    "name": "ipython",
    "version": 3
   },
   "file_extension": ".py",
   "mimetype": "text/x-python",
   "name": "python",
   "nbconvert_exporter": "python",
   "pygments_lexer": "ipython3",
   "version": "3.6.4"
  }
 },
 "nbformat": 4,
 "nbformat_minor": 2
}
