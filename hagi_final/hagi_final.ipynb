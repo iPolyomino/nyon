{
 "cells": [
  {
   "cell_type": "code",
   "execution_count": 103,
   "metadata": {},
   "outputs": [],
   "source": [
    "from sympy import *\n",
    "init_printing(use_latex=True)\n",
    "from IPython.display import display"
   ]
  },
  {
   "cell_type": "markdown",
   "metadata": {},
   "source": [
    "## 1. (a)"
   ]
  },
  {
   "cell_type": "code",
   "execution_count": 104,
   "metadata": {},
   "outputs": [
    {
     "data": {
      "image/png": "[encoded data removed]",
      "text/latex": [
       "$$\\left[\\begin{matrix}\\frac{\\sqrt{3}}{3}\\\\\\frac{\\sqrt{3}}{3}\\\\\\frac{\\sqrt{3}}{3}\\end{matrix}\\right]$$"
      ],
      "text/plain": [
       "⎡√3⎤\n",
       "⎢──⎥\n",
       "⎢3 ⎥\n",
       "⎢  ⎥\n",
       "⎢√3⎥\n",
       "⎢──⎥\n",
       "⎢3 ⎥\n",
       "⎢  ⎥\n",
       "⎢√3⎥\n",
       "⎢──⎥\n",
       "⎣3 ⎦"
      ]
     },
     "metadata": {},
     "output_type": "display_data"
    },
    {
     "data": {
      "image/png": "[encoded data removed]",
      "text/latex": [
       "$$\\left[\\begin{matrix}- \\frac{\\sqrt{6}}{6}\\\\\\frac{\\sqrt{6}}{3}\\\\- \\frac{\\sqrt{6}}{6}\\end{matrix}\\right]$$"
      ],
      "text/plain": [
       "⎡-√6 ⎤\n",
       "⎢────⎥\n",
       "⎢ 6  ⎥\n",
       "⎢    ⎥\n",
       "⎢ √6 ⎥\n",
       "⎢ ── ⎥\n",
       "⎢ 3  ⎥\n",
       "⎢    ⎥\n",
       "⎢-√6 ⎥\n",
       "⎢────⎥\n",
       "⎣ 6  ⎦"
      ]
     },
     "metadata": {},
     "output_type": "display_data"
    },
    {
     "data": {
      "image/png": "[encoded data removed]",
      "text/latex": [
       "$$\\left[\\begin{matrix}- \\frac{\\sqrt{2}}{2}\\\\0\\\\\\frac{\\sqrt{2}}{2}\\end{matrix}\\right]$$"
      ],
      "text/plain": [
       "⎡-√2 ⎤\n",
       "⎢────⎥\n",
       "⎢ 2  ⎥\n",
       "⎢    ⎥\n",
       "⎢ 0  ⎥\n",
       "⎢    ⎥\n",
       "⎢ √2 ⎥\n",
       "⎢ ── ⎥\n",
       "⎣ 2  ⎦"
      ]
     },
     "metadata": {},
     "output_type": "display_data"
    }
   ],
   "source": [
    "x1 = Matrix([1, 1, 1])\n",
    "x2 = Matrix([0, 1, 0])\n",
    "x3 = Matrix([-1, 1, 0])\n",
    "\n",
    "out1 = GramSchmidt([x1, x2, x3], True)\n",
    "for i in out1:\n",
    "    display(i)"
   ]
  },
  {
   "cell_type": "code",
   "execution_count": 105,
   "metadata": {},
   "outputs": [
    {
     "data": {
      "image/png": "[encoded data removed]",
      "text/latex": [
       "$$\\left[\\begin{matrix}1 & 0 & \\frac{2}{5}\\\\0 & 1 & - \\frac{1}{5}\\end{matrix}\\right]$$"
      ],
      "text/plain": [
       "⎡1  0  2/5 ⎤\n",
       "⎢          ⎥\n",
       "⎣0  1  -1/5⎦"
      ]
     },
     "metadata": {},
     "output_type": "display_data"
    }
   ],
   "source": [
    "A = Matrix([\n",
    "    [2, -1, 1],\n",
    "    [1, -3, 1]\n",
    "])\n",
    "\n",
    "rref = A.rref()[0]\n",
    "display(rref)"
   ]
  },
  {
   "cell_type": "markdown",
   "metadata": {},
   "source": [
    "## 2. (a)"
   ]
  },
  {
   "cell_type": "code",
   "execution_count": 106,
   "metadata": {},
   "outputs": [
    {
     "data": {
      "image/png": "[encoded data removed]",
      "text/latex": [
       "$$\\frac{t^{4}}{24} - \\frac{t^{3}}{6} + \\frac{t^{2}}{2} - t + 2.0$$"
      ],
      "text/plain": [
       " 4    3    2          \n",
       "t    t    t           \n",
       "── - ── + ── - t + 2.0\n",
       "24   6    2           "
      ]
     },
     "metadata": {},
     "output_type": "display_data"
    }
   ],
   "source": [
    "%matplotlib inline\n",
    "t = symbols('t')\n",
    "\n",
    "v = exp(-t) + 1.0\n",
    "taylor = v.series(t, 0, 5).removeO()\n",
    "display(taylor)"
   ]
  },
  {
   "cell_type": "code",
   "execution_count": 107,
   "metadata": {},
   "outputs": [
    {
     "data": {
      "image/png": "[encoded data removed]",
      "text/plain": [
       "<matplotlib.figure.Figure at 0x1161ef828>"
      ]
     },
     "metadata": {},
     "output_type": "display_data"
    }
   ],
   "source": [
    "p = plot(taylor, (t, 0, 2),legend=True, show=False)\n",
    "p.show()"
   ]
  },
  {
   "cell_type": "code",
   "execution_count": 108,
   "metadata": {},
   "outputs": [
    {
     "data": {
      "image/png": "[encoded data removed]",
      "text/latex": [
       "$$9$$"
      ],
      "text/plain": [
       "9"
      ]
     },
     "metadata": {},
     "output_type": "display_data"
    }
   ],
   "source": [
    "v = exp(-t) + 1.0\n",
    "order = 1\n",
    "\n",
    "taylor = v.series(t, 0, order).removeO()\n",
    "integ = integrate(taylor, (t, 0, 2))\n",
    "\n",
    "while abs(integ-integrate(v, (t, 0, 2))) > 0.001:\n",
    "    order += 1\n",
    "    taylor = v.series(t, 0, order).removeO()\n",
    "    integ = integrate(taylor, (t, 0, 2))\n",
    "\n",
    "display(order)"
   ]
  },
  {
   "cell_type": "markdown",
   "metadata": {},
   "source": [
    "## 3"
   ]
  },
  {
   "cell_type": "code",
   "execution_count": 109,
   "metadata": {},
   "outputs": [
    {
     "data": {
      "image/png": "[encoded data removed]",
      "text/latex": [
       "$$- x^{2} - y + 1$$"
      ],
      "text/plain": [
       "   2        \n",
       "- x  - y + 1"
      ]
     },
     "metadata": {},
     "output_type": "display_data"
    },
    {
     "data": {
      "image/png": "[encoded data removed]",
      "text/latex": [
       "$$b$$"
      ],
      "text/plain": [
       "b"
      ]
     },
     "metadata": {},
     "output_type": "display_data"
    },
    {
     "data": {
      "image/png": "[encoded data removed]",
      "text/latex": [
       "$$- y + b{\\left (x - 1 \\right )}$$"
      ],
      "text/plain": [
       "-y + b(x - 1)"
      ]
     },
     "metadata": {},
     "output_type": "display_data"
    }
   ],
   "source": [
    "x, y, b = symbols('x, y, b', positive=True)\n",
    "\n",
    "c = 1 - x**2 - y\n",
    "display(c)\n",
    "\n",
    "# 傾き\n",
    "inclination = (((2 * b - b**2)-0) / ((1 - b) - (-1))).factor()\n",
    "display(inclination)\n",
    "\n",
    "# (-1, 0)を通るので\n",
    "so = inclination(x - 1) - y\n",
    "display(so) # セ, ソ"
   ]
  },
  {
   "cell_type": "code",
   "execution_count": 110,
   "metadata": {},
   "outputs": [
    {
     "data": {
      "image/png": "[encoded data removed]",
      "text/latex": [
       "$$- x^{2} - b{\\left (x - 1 \\right )} + 1$$"
      ],
      "text/plain": [
       "   2               \n",
       "- x  - b(x - 1) + 1"
      ]
     },
     "execution_count": 110,
     "metadata": {},
     "output_type": "execute_result"
    }
   ],
   "source": [
    "c -so"
   ]
  },
  {
   "cell_type": "code",
   "execution_count": 111,
   "metadata": {},
   "outputs": [
    {
     "data": {
      "image/png": "[encoded data removed]",
      "text/latex": [
       "$$- b - \\frac{1}{3} \\left(- b + 1\\right)^{3} + \\frac{1}{2} \\left(- b + 1\\right)^{2} \\left. \\frac{d}{d \\xi_{1}} b{\\left (\\xi_{1} \\right )} \\right|_{\\substack{ \\xi_{1}=x - 1 }} - \\left(- b + 1\\right) b{\\left (- b \\right )} - b{\\left (-2 \\right )} - \\frac{1}{2} \\left. \\frac{d}{d \\xi_{1}} b{\\left (\\xi_{1} \\right )} \\right|_{\\substack{ \\xi_{1}=x - 1 }} + \\frac{5}{3}$$"
      ],
      "text/plain": [
       "                         2 ⎛ d        ⎞│                                    ⎛ \n",
       "             3   (-b + 1) ⋅⎜───(b(ξ₁))⎟│                                    ⎜─\n",
       "     (-b + 1)              ⎝dξ₁       ⎠│ξ₁=x - 1                            ⎝d\n",
       "-b - ───────── + ─────────────────────────────── - (-b + 1)⋅b(-b) - b(-2) - ──\n",
       "         3                      2                                             \n",
       "\n",
       "d        ⎞│            \n",
       "──(b(ξ₁))⎟│            \n",
       "ξ₁       ⎠│ξ₁=x - 1   5\n",
       "─────────────────── + ─\n",
       "        2             3"
      ]
     },
     "metadata": {},
     "output_type": "display_data"
    }
   ],
   "source": [
    "s1 = integrate((c - so), (x, -1, 1-b))\n",
    "display(s1)"
   ]
  },
  {
   "cell_type": "code",
   "execution_count": null,
   "metadata": {},
   "outputs": [],
   "source": []
  }
 ],
 "metadata": {
  "kernelspec": {
   "display_name": "Python 3",
   "language": "python",
   "name": "python3"
  },
  "language_info": {
   "codemirror_mode": {
    "name": "ipython",
    "version": 3
   },
   "file_extension": ".py",
   "mimetype": "text/x-python",
   "name": "python",
   "nbconvert_exporter": "python",
   "pygments_lexer": "ipython3",
   "version": "3.6.4"
  }
 },
 "nbformat": 4,
 "nbformat_minor": 2
}
