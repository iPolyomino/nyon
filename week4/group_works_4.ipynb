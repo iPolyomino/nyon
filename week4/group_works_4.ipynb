{
 "cells": [
  {
   "cell_type": "markdown",
   "metadata": {},
   "source": [
    "# Google page rank"
   ]
  },
  {
   "cell_type": "code",
   "execution_count": 1,
   "metadata": {
    "collapsed": true
   },
   "outputs": [],
   "source": [
    "from sympy import *\n",
    "init_printing()"
   ]
  },
  {
   "cell_type": "markdown",
   "metadata": {},
   "source": [
    "隣接行列を転置"
   ]
  },
  {
   "cell_type": "code",
   "execution_count": 2,
   "metadata": {},
   "outputs": [
    {
     "data": {
      "image/png": "[encoded data removed]",
      "text/latex": [
       "$$\\left[\\begin{matrix}0 & 1 & 1 & 0 & 1 & 1 & 0\\\\1 & 0 & 1 & 1 & 0 & 0 & 0\\\\1 & 0 & 0 & 1 & 1 & 0 & 0\\\\1 & 0 & 0 & 0 & 1 & 0 & 0\\\\1 & 0 & 0 & 1 & 0 & 1 & 1\\\\0 & 0 & 0 & 0 & 1 & 0 & 0\\\\1 & 0 & 0 & 0 & 0 & 0 & 0\\end{matrix}\\right]$$"
      ],
      "text/plain": [
       "⎡0  1  1  0  1  1  0⎤\n",
       "⎢                   ⎥\n",
       "⎢1  0  1  1  0  0  0⎥\n",
       "⎢                   ⎥\n",
       "⎢1  0  0  1  1  0  0⎥\n",
       "⎢                   ⎥\n",
       "⎢1  0  0  0  1  0  0⎥\n",
       "⎢                   ⎥\n",
       "⎢1  0  0  1  0  1  1⎥\n",
       "⎢                   ⎥\n",
       "⎢0  0  0  0  1  0  0⎥\n",
       "⎢                   ⎥\n",
       "⎣1  0  0  0  0  0  0⎦"
      ]
     },
     "metadata": {},
     "output_type": "display_data"
    }
   ],
   "source": [
    "adjacency_matrix = Matrix([\n",
    "    [0, 1, 1, 1, 1, 0, 1],\n",
    "    [1, 0, 0, 0, 0, 0, 0],\n",
    "    [1, 1, 0, 0, 0, 0, 0],\n",
    "    [0, 1, 1, 0, 1, 0, 0],\n",
    "    [1, 0, 1, 1, 0, 1, 0],\n",
    "    [1, 0, 0, 0, 1, 0, 0],\n",
    "    [0, 0, 0, 0, 1, 0, 0]\n",
    "])\n",
    "\n",
    "transposed_matrix = adjacency_matrix.transpose()\n",
    "display(transposed_matrix)"
   ]
  },
  {
   "cell_type": "markdown",
   "metadata": {},
   "source": []
  },
  {
   "cell_type": "code",
   "execution_count": 3,
   "metadata": {},
   "outputs": [
    {
     "data": {
      "image/png": "[encoded data removed]",
      "text/latex": [
       "$$\\left[\\begin{matrix}0.2 & 0 & 0 & 0 & 0 & 0 & 0\\\\0 & 1 & 0 & 0 & 0 & 0 & 0\\\\0 & 0 & 0.5 & 0 & 0 & 0 & 0\\\\0 & 0 & 0 & 0.333333333333333 & 0 & 0 & 0\\\\0 & 0 & 0 & 0 & 0.25 & 0 & 0\\\\0 & 0 & 0 & 0 & 0 & 0.5 & 0\\\\0 & 0 & 0 & 0 & 0 & 0 & 1\\end{matrix}\\right]$$"
      ],
      "text/plain": [
       "⎡0.2  0   0           0           0     0   0⎤\n",
       "⎢                                            ⎥\n",
       "⎢ 0   1   0           0           0     0   0⎥\n",
       "⎢                                            ⎥\n",
       "⎢ 0   0  0.5          0           0     0   0⎥\n",
       "⎢                                            ⎥\n",
       "⎢ 0   0   0   0.333333333333333   0     0   0⎥\n",
       "⎢                                            ⎥\n",
       "⎢ 0   0   0           0          0.25   0   0⎥\n",
       "⎢                                            ⎥\n",
       "⎢ 0   0   0           0           0    0.5  0⎥\n",
       "⎢                                            ⎥\n",
       "⎣ 0   0   0           0           0     0   1⎦"
      ]
     },
     "execution_count": 3,
     "metadata": {},
     "output_type": "execute_result"
    }
   ],
   "source": [
    "V = [1/5,1,1/2,1/3,1/4,1/2,1]\n",
    "diag(*V)"
   ]
  },
  {
   "cell_type": "code",
   "execution_count": 4,
   "metadata": {},
   "outputs": [
    {
     "data": {
      "image/png": "[encoded data removed]",
      "text/latex": [
       "$$\\left[\\begin{matrix}0 & 1 & 0.5 & 0 & 0.25 & 0.5 & 0\\\\0.2 & 0 & 0.5 & 0.333333333333333 & 0 & 0 & 0\\\\0.2 & 0 & 0 & 0.333333333333333 & 0.25 & 0 & 0\\\\0.2 & 0 & 0 & 0 & 0.25 & 0 & 0\\\\0.2 & 0 & 0 & 0.333333333333333 & 0 & 0.5 & 1\\\\0 & 0 & 0 & 0 & 0.25 & 0 & 0\\\\0.2 & 0 & 0 & 0 & 0 & 0 & 0\\end{matrix}\\right]$$"
      ],
      "text/plain": [
       "⎡ 0   1  0.5          0          0.25  0.5  0⎤\n",
       "⎢                                            ⎥\n",
       "⎢0.2  0  0.5  0.333333333333333   0     0   0⎥\n",
       "⎢                                            ⎥\n",
       "⎢0.2  0   0   0.333333333333333  0.25   0   0⎥\n",
       "⎢                                            ⎥\n",
       "⎢0.2  0   0           0          0.25   0   0⎥\n",
       "⎢                                            ⎥\n",
       "⎢0.2  0   0   0.333333333333333   0    0.5  1⎥\n",
       "⎢                                            ⎥\n",
       "⎢ 0   0   0           0          0.25   0   0⎥\n",
       "⎢                                            ⎥\n",
       "⎣0.2  0   0           0           0     0   0⎦"
      ]
     },
     "metadata": {},
     "output_type": "display_data"
    }
   ],
   "source": [
    "transition_probability_matrix = transposed_matrix*diag(*V)\n",
    "display(transition_probability_matrix)"
   ]
  },
  {
   "cell_type": "code",
   "execution_count": 5,
   "metadata": {},
   "outputs": [
    {
     "data": {
      "image/png": "[encoded data removed]",
      "text/latex": [
       "$$\\left[\\begin{matrix}0.142857142857143\\\\0.142857142857143\\\\0.142857142857143\\\\0.142857142857143\\\\0.142857142857143\\\\0.142857142857143\\\\0.142857142857143\\end{matrix}\\right]$$"
      ],
      "text/plain": [
       "⎡0.142857142857143⎤\n",
       "⎢                 ⎥\n",
       "⎢0.142857142857143⎥\n",
       "⎢                 ⎥\n",
       "⎢0.142857142857143⎥\n",
       "⎢                 ⎥\n",
       "⎢0.142857142857143⎥\n",
       "⎢                 ⎥\n",
       "⎢0.142857142857143⎥\n",
       "⎢                 ⎥\n",
       "⎢0.142857142857143⎥\n",
       "⎢                 ⎥\n",
       "⎣0.142857142857143⎦"
      ]
     },
     "metadata": {},
     "output_type": "display_data"
    }
   ],
   "source": [
    "initial_vector = Matrix([1/7,1/7,1/7,1/7,1/7,1/7,1/7])\n",
    "display(initial_vector)"
   ]
  },
  {
   "cell_type": "code",
   "execution_count": 7,
   "metadata": {},
   "outputs": [
    {
     "data": {
      "image/png": "[encoded data removed]",
      "text/latex": [
       "$$\\left[\\begin{matrix}0.321428571428571\\\\0.147619047619048\\\\0.111904761904762\\\\0.0642857142857143\\\\0.29047619047619\\\\0.0357142857142857\\\\0.0285714285714286\\end{matrix}\\right]$$"
      ],
      "text/plain": [
       "⎡0.321428571428571 ⎤\n",
       "⎢                  ⎥\n",
       "⎢0.147619047619048 ⎥\n",
       "⎢                  ⎥\n",
       "⎢0.111904761904762 ⎥\n",
       "⎢                  ⎥\n",
       "⎢0.0642857142857143⎥\n",
       "⎢                  ⎥\n",
       "⎢ 0.29047619047619 ⎥\n",
       "⎢                  ⎥\n",
       "⎢0.0357142857142857⎥\n",
       "⎢                  ⎥\n",
       "⎣0.0285714285714286⎦"
      ]
     },
     "metadata": {},
     "output_type": "display_data"
    },
    {
     "data": {
      "image/png": "[encoded data removed]",
      "text/latex": [
       "$$\\left[\\begin{matrix}0.294047619047619\\\\0.141666666666667\\\\0.158333333333333\\\\0.136904761904762\\\\0.132142857142857\\\\0.0726190476190476\\\\0.0642857142857143\\end{matrix}\\right]$$"
      ],
      "text/plain": [
       "⎡0.294047619047619 ⎤\n",
       "⎢                  ⎥\n",
       "⎢0.141666666666667 ⎥\n",
       "⎢                  ⎥\n",
       "⎢0.158333333333333 ⎥\n",
       "⎢                  ⎥\n",
       "⎢0.136904761904762 ⎥\n",
       "⎢                  ⎥\n",
       "⎢0.132142857142857 ⎥\n",
       "⎢                  ⎥\n",
       "⎢0.0726190476190476⎥\n",
       "⎢                  ⎥\n",
       "⎣0.0642857142857143⎦"
      ]
     },
     "metadata": {},
     "output_type": "display_data"
    },
    {
     "data": {
      "image/png": "[encoded data removed]",
      "text/latex": [
       "$$\\left[\\begin{matrix}0.290178571428571\\\\0.183611111111111\\\\0.137480158730159\\\\0.0918452380952381\\\\0.205039682539683\\\\0.0330357142857143\\\\0.0588095238095238\\end{matrix}\\right]$$"
      ],
      "text/plain": [
       "⎡0.290178571428571 ⎤\n",
       "⎢                  ⎥\n",
       "⎢0.183611111111111 ⎥\n",
       "⎢                  ⎥\n",
       "⎢0.137480158730159 ⎥\n",
       "⎢                  ⎥\n",
       "⎢0.0918452380952381⎥\n",
       "⎢                  ⎥\n",
       "⎢0.205039682539683 ⎥\n",
       "⎢                  ⎥\n",
       "⎢0.0330357142857143⎥\n",
       "⎢                  ⎥\n",
       "⎣0.0588095238095238⎦"
      ]
     },
     "metadata": {},
     "output_type": "display_data"
    },
    {
     "data": {
      "image/png": "[encoded data removed]",
      "text/latex": [
       "$$\\left[\\begin{matrix}0.320128968253968\\\\0.157390873015873\\\\0.139910714285714\\\\0.109295634920635\\\\0.163978174603175\\\\0.0512599206349206\\\\0.0580357142857143\\end{matrix}\\right]$$"
      ],
      "text/plain": [
       "⎡0.320128968253968 ⎤\n",
       "⎢                  ⎥\n",
       "⎢0.157390873015873 ⎥\n",
       "⎢                  ⎥\n",
       "⎢0.139910714285714 ⎥\n",
       "⎢                  ⎥\n",
       "⎢0.109295634920635 ⎥\n",
       "⎢                  ⎥\n",
       "⎢0.163978174603175 ⎥\n",
       "⎢                  ⎥\n",
       "⎢0.0512599206349206⎥\n",
       "⎢                  ⎥\n",
       "⎣0.0580357142857143⎦"
      ]
     },
     "metadata": {},
     "output_type": "display_data"
    },
    {
     "data": {
      "image/png": "[encoded data removed]",
      "text/latex": [
       "$$\\left[\\begin{matrix}0.293970734126984\\\\0.170413029100529\\\\0.141452215608466\\\\0.105020337301587\\\\0.184123346560847\\\\0.0409945436507936\\\\0.0640257936507937\\end{matrix}\\right]$$"
      ],
      "text/plain": [
       "⎡0.293970734126984 ⎤\n",
       "⎢                  ⎥\n",
       "⎢0.170413029100529 ⎥\n",
       "⎢                  ⎥\n",
       "⎢0.141452215608466 ⎥\n",
       "⎢                  ⎥\n",
       "⎢0.105020337301587 ⎥\n",
       "⎢                  ⎥\n",
       "⎢0.184123346560847 ⎥\n",
       "⎢                  ⎥\n",
       "⎢0.0409945436507936⎥\n",
       "⎢                  ⎥\n",
       "⎣0.0640257936507937⎦"
      ]
     },
     "metadata": {},
     "output_type": "display_data"
    },
    {
     "data": {
      "image/png": "[encoded data removed]",
      "text/latex": [
       "$$\\left[\\begin{matrix}0.30766724537037\\\\0.164527033730159\\\\0.139831762566138\\\\0.104824983465608\\\\0.178323991402116\\\\0.0460308366402116\\\\0.0587941468253968\\end{matrix}\\right]$$"
      ],
      "text/plain": [
       "⎡ 0.30766724537037 ⎤\n",
       "⎢                  ⎥\n",
       "⎢0.164527033730159 ⎥\n",
       "⎢                  ⎥\n",
       "⎢0.139831762566138 ⎥\n",
       "⎢                  ⎥\n",
       "⎢0.104824983465608 ⎥\n",
       "⎢                  ⎥\n",
       "⎢0.178323991402116 ⎥\n",
       "⎢                  ⎥\n",
       "⎢0.0460308366402116⎥\n",
       "⎢                  ⎥\n",
       "⎣0.0587941468253968⎦"
      ]
     },
     "metadata": {},
     "output_type": "display_data"
    },
    {
     "data": {
      "image/png": "[encoded data removed]",
      "text/latex": [
       "$$\\left[\\begin{matrix}0.302039331183862\\\\0.166390991512346\\\\0.141056108079806\\\\0.106114446924603\\\\0.17828467537478\\\\0.0445809978505291\\\\0.0615334490740741\\end{matrix}\\right]$$"
      ],
      "text/plain": [
       "⎡0.302039331183862 ⎤\n",
       "⎢                  ⎥\n",
       "⎢0.166390991512346 ⎥\n",
       "⎢                  ⎥\n",
       "⎢0.141056108079806 ⎥\n",
       "⎢                  ⎥\n",
       "⎢0.106114446924603 ⎥\n",
       "⎢                  ⎥\n",
       "⎢ 0.17828467537478 ⎥\n",
       "⎢                  ⎥\n",
       "⎢0.0445809978505291⎥\n",
       "⎢                  ⎥\n",
       "⎣0.0615334490740741⎦"
      ]
     },
     "metadata": {},
     "output_type": "display_data"
    },
    {
     "data": {
      "image/png": "[encoded data removed]",
      "text/latex": [
       "$$\\left[\\begin{matrix}0.303780713321208\\\\0.166307402584877\\\\0.140350517388668\\\\0.104979035080467\\\\0.179603296544312\\\\0.0445711688436949\\\\0.0604078662367725\\end{matrix}\\right]$$"
      ],
      "text/plain": [
       "⎡0.303780713321208 ⎤\n",
       "⎢                  ⎥\n",
       "⎢0.166307402584877 ⎥\n",
       "⎢                  ⎥\n",
       "⎢0.140350517388668 ⎥\n",
       "⎢                  ⎥\n",
       "⎢0.104979035080467 ⎥\n",
       "⎢                  ⎥\n",
       "⎢0.179603296544312 ⎥\n",
       "⎢                  ⎥\n",
       "⎢0.0445711688436949⎥\n",
       "⎢                  ⎥\n",
       "⎣0.0604078662367725⎦"
      ]
     },
     "metadata": {},
     "output_type": "display_data"
    },
    {
     "data": {
      "image/png": "[encoded data removed]",
      "text/latex": [
       "$$\\left[\\begin{matrix}0.303669069837136\\\\0.165924413052065\\\\0.140649978493809\\\\0.10565696680032\\\\0.178442605016351\\\\0.044900824136078\\\\0.0607561426642416\\end{matrix}\\right]$$"
      ],
      "text/plain": [
       "⎡0.303669069837136 ⎤\n",
       "⎢                  ⎥\n",
       "⎢0.165924413052065 ⎥\n",
       "⎢                  ⎥\n",
       "⎢0.140649978493809 ⎥\n",
       "⎢                  ⎥\n",
       "⎢ 0.10565696680032 ⎥\n",
       "⎢                  ⎥\n",
       "⎢0.178442605016351 ⎥\n",
       "⎢                  ⎥\n",
       "⎢0.044900824136078 ⎥\n",
       "⎢                  ⎥\n",
       "⎣0.0607561426642416⎦"
      ]
     },
     "metadata": {},
     "output_type": "display_data"
    },
    {
     "data": {
      "image/png": "[encoded data removed]",
      "text/latex": [
       "$$\\left[\\begin{matrix}0.303310465621096\\\\0.166277792147772\\\\0.140563454154955\\\\0.105344465221515\\\\0.179159357633148\\\\0.0446106512540877\\\\0.0607338139674273\\end{matrix}\\right]$$"
      ],
      "text/plain": [
       "⎡0.303310465621096 ⎤\n",
       "⎢                  ⎥\n",
       "⎢0.166277792147772 ⎥\n",
       "⎢                  ⎥\n",
       "⎢0.140563454154955 ⎥\n",
       "⎢                  ⎥\n",
       "⎢0.105344465221515 ⎥\n",
       "⎢                  ⎥\n",
       "⎢0.179159357633148 ⎥\n",
       "⎢                  ⎥\n",
       "⎢0.0446106512540877⎥\n",
       "⎢                  ⎥\n",
       "⎣0.0607338139674273⎦"
      ]
     },
     "metadata": {},
     "output_type": "display_data"
    }
   ],
   "source": [
    "page_rank = initial_vector\n",
    "\n",
    "for i in range(10):\n",
    "    page_rank = transition_probability_matrix*page_rank\n",
    "    display(page_rank)"
   ]
  },
  {
   "cell_type": "markdown",
   "metadata": {},
   "source": [
    "# 3.1\n",
    "\n",
    "徐々に値は収束していき、被リンク数が多いものほど値が大きい。  "
   ]
  },
  {
   "cell_type": "code",
   "execution_count": 11,
   "metadata": {},
   "outputs": [
    {
     "data": {
      "image/png": "[encoded data removed]",
      "text/latex": [
       "$$\\left[\\begin{matrix}0\\\\20.0\\\\20.0\\\\20.0\\\\20.0\\\\0\\\\20.0\\end{matrix}\\right]$$"
      ],
      "text/plain": [
       "⎡ 0  ⎤\n",
       "⎢    ⎥\n",
       "⎢20.0⎥\n",
       "⎢    ⎥\n",
       "⎢20.0⎥\n",
       "⎢    ⎥\n",
       "⎢20.0⎥\n",
       "⎢    ⎥\n",
       "⎢20.0⎥\n",
       "⎢    ⎥\n",
       "⎢ 0  ⎥\n",
       "⎢    ⎥\n",
       "⎣20.0⎦"
      ]
     },
     "metadata": {},
     "output_type": "display_data"
    },
    {
     "data": {
      "image/png": "[encoded data removed]",
      "text/latex": [
       "$$\\left[\\begin{matrix}35.0\\\\16.6666666666667\\\\11.6666666666667\\\\5.0\\\\26.6666666666667\\\\5.0\\\\0\\end{matrix}\\right]$$"
      ],
      "text/plain": [
       "⎡      35.0      ⎤\n",
       "⎢                ⎥\n",
       "⎢16.6666666666667⎥\n",
       "⎢                ⎥\n",
       "⎢11.6666666666667⎥\n",
       "⎢                ⎥\n",
       "⎢      5.0       ⎥\n",
       "⎢                ⎥\n",
       "⎢26.6666666666667⎥\n",
       "⎢                ⎥\n",
       "⎢      5.0       ⎥\n",
       "⎢                ⎥\n",
       "⎣       0        ⎦"
      ]
     },
     "metadata": {},
     "output_type": "display_data"
    },
    {
     "data": {
      "image/png": "[encoded data removed]",
      "text/latex": [
       "$$\\left[\\begin{matrix}31.6666666666667\\\\14.5\\\\15.3333333333333\\\\13.6666666666667\\\\11.1666666666667\\\\6.66666666666667\\\\7.0\\end{matrix}\\right]$$"
      ],
      "text/plain": [
       "⎡31.6666666666667⎤\n",
       "⎢                ⎥\n",
       "⎢      14.5      ⎥\n",
       "⎢                ⎥\n",
       "⎢15.3333333333333⎥\n",
       "⎢                ⎥\n",
       "⎢13.6666666666667⎥\n",
       "⎢                ⎥\n",
       "⎢11.1666666666667⎥\n",
       "⎢                ⎥\n",
       "⎢6.66666666666667⎥\n",
       "⎢                ⎥\n",
       "⎣      7.0       ⎦"
      ]
     },
     "metadata": {},
     "output_type": "display_data"
    },
    {
     "data": {
      "image/png": "[encoded data removed]",
      "text/latex": [
       "$$\\left[\\begin{matrix}28.2916666666667\\\\18.5555555555556\\\\13.6805555555556\\\\9.125\\\\21.2222222222222\\\\2.79166666666667\\\\6.33333333333333\\end{matrix}\\right]$$"
      ],
      "text/plain": [
       "⎡28.2916666666667⎤\n",
       "⎢                ⎥\n",
       "⎢18.5555555555556⎥\n",
       "⎢                ⎥\n",
       "⎢13.6805555555556⎥\n",
       "⎢                ⎥\n",
       "⎢     9.125      ⎥\n",
       "⎢                ⎥\n",
       "⎢21.2222222222222⎥\n",
       "⎢                ⎥\n",
       "⎢2.79166666666667⎥\n",
       "⎢                ⎥\n",
       "⎣6.33333333333333⎦"
      ]
     },
     "metadata": {},
     "output_type": "display_data"
    },
    {
     "data": {
      "image/png": "[encoded data removed]",
      "text/latex": [
       "$$\\left[\\begin{matrix}32.0972222222222\\\\15.5402777777778\\\\14.0055555555556\\\\10.9638888888889\\\\16.4291666666667\\\\5.30555555555556\\\\5.65833333333333\\end{matrix}\\right]$$"
      ],
      "text/plain": [
       "⎡32.0972222222222⎤\n",
       "⎢                ⎥\n",
       "⎢15.5402777777778⎥\n",
       "⎢                ⎥\n",
       "⎢14.0055555555556⎥\n",
       "⎢                ⎥\n",
       "⎢10.9638888888889⎥\n",
       "⎢                ⎥\n",
       "⎢16.4291666666667⎥\n",
       "⎢                ⎥\n",
       "⎢5.30555555555556⎥\n",
       "⎢                ⎥\n",
       "⎣5.65833333333333⎦"
      ]
     },
     "metadata": {},
     "output_type": "display_data"
    },
    {
     "data": {
      "image/png": "[encoded data removed]",
      "text/latex": [
       "$$\\left[\\begin{matrix}29.303125\\\\17.0768518518519\\\\14.1813657407407\\\\10.5267361111111\\\\18.3851851851852\\\\4.10729166666667\\\\6.41944444444445\\end{matrix}\\right]$$"
      ],
      "text/plain": [
       "⎡   29.303125    ⎤\n",
       "⎢                ⎥\n",
       "⎢17.0768518518519⎥\n",
       "⎢                ⎥\n",
       "⎢14.1813657407407⎥\n",
       "⎢                ⎥\n",
       "⎢10.5267361111111⎥\n",
       "⎢                ⎥\n",
       "⎢18.3851851851852⎥\n",
       "⎢                ⎥\n",
       "⎢4.10729166666667⎥\n",
       "⎢                ⎥\n",
       "⎣6.41944444444445⎦"
      ]
     },
     "metadata": {},
     "output_type": "display_data"
    },
    {
     "data": {
      "image/png": "[encoded data removed]",
      "text/latex": [
       "$$\\left[\\begin{matrix}30.8174768518519\\\\16.4602199074074\\\\13.9658333333333\\\\10.4569212962963\\\\17.8426273148148\\\\4.5962962962963\\\\5.860625\\end{matrix}\\right]$$"
      ],
      "text/plain": [
       "⎡30.8174768518519⎤\n",
       "⎢                ⎥\n",
       "⎢16.4602199074074⎥\n",
       "⎢                ⎥\n",
       "⎢13.9658333333333⎥\n",
       "⎢                ⎥\n",
       "⎢10.4569212962963⎥\n",
       "⎢                ⎥\n",
       "⎢17.8426273148148⎥\n",
       "⎢                ⎥\n",
       "⎢4.5962962962963 ⎥\n",
       "⎢                ⎥\n",
       "⎣    5.860625    ⎦"
      ]
     },
     "metadata": {},
     "output_type": "display_data"
    },
    {
     "data": {
      "image/png": "[encoded data removed]",
      "text/latex": [
       "$$\\left[\\begin{matrix}30.2019415509259\\\\16.6320524691358\\\\14.1097926311728\\\\10.6241521990741\\\\17.8079089506173\\\\4.4606568287037\\\\6.16349537037037\\end{matrix}\\right]$$"
      ],
      "text/plain": [
       "⎡30.2019415509259⎤\n",
       "⎢                ⎥\n",
       "⎢16.6320524691358⎥\n",
       "⎢                ⎥\n",
       "⎢14.1097926311728⎥\n",
       "⎢                ⎥\n",
       "⎢10.6241521990741⎥\n",
       "⎢                ⎥\n",
       "⎢17.8079089506173⎥\n",
       "⎢                ⎥\n",
       "⎢4.4606568287037 ⎥\n",
       "⎢                ⎥\n",
       "⎣6.16349537037037⎦"
      ]
     },
     "metadata": {},
     "output_type": "display_data"
    },
    {
     "data": {
      "image/png": "[encoded data removed]",
      "text/latex": [
       "$$\\left[\\begin{matrix}30.3692544367284\\\\16.6366686921296\\\\14.0337496141975\\\\10.4923655478395\\\\17.9755961612654\\\\4.45197723765432\\\\6.04038831018519\\end{matrix}\\right]$$"
      ],
      "text/plain": [
       "⎡30.3692544367284⎤\n",
       "⎢                ⎥\n",
       "⎢16.6366686921296⎥\n",
       "⎢                ⎥\n",
       "⎢14.0337496141975⎥\n",
       "⎢                ⎥\n",
       "⎢10.4923655478395⎥\n",
       "⎢                ⎥\n",
       "⎢17.9755961612654⎥\n",
       "⎢                ⎥\n",
       "⎢4.45197723765432⎥\n",
       "⎢                ⎥\n",
       "⎣6.04038831018519⎦"
      ]
     },
     "metadata": {},
     "output_type": "display_data"
    },
    {
     "data": {
      "image/png": "[encoded data removed]",
      "text/latex": [
       "$$\\left[\\begin{matrix}30.3734311583719\\\\16.5881808770576\\\\14.0652051102752\\\\10.567749927662\\\\17.8376829989712\\\\4.49389904031636\\\\6.07385088734568\\end{matrix}\\right]$$"
      ],
      "text/plain": [
       "⎡30.3734311583719⎤\n",
       "⎢                ⎥\n",
       "⎢16.5881808770576⎥\n",
       "⎢                ⎥\n",
       "⎢14.0652051102752⎥\n",
       "⎢                ⎥\n",
       "⎢10.567749927662 ⎥\n",
       "⎢                ⎥\n",
       "⎢17.8376829989712⎥\n",
       "⎢                ⎥\n",
       "⎢4.49389904031636⎥\n",
       "⎢                ⎥\n",
       "⎣6.07385088734568⎦"
      ]
     },
     "metadata": {},
     "output_type": "display_data"
    }
   ],
   "source": [
    "initial_vector = Matrix([100,0,0,0,0,0,0])\n",
    "\n",
    "page_rank = initial_vector\n",
    "\n",
    "for i in range(10):\n",
    "    page_rank = transition_probability_matrix*page_rank\n",
    "    display(page_rank)"
   ]
  },
  {
   "cell_type": "markdown",
   "metadata": {},
   "source": [
    "# 3.2\n",
    "\n",
    "3.1のときより、各値が100倍された値に収束していく。  \n",
    "このことから、推移確立行列は各要素に対する重み付けを行うものである。"
   ]
  },
  {
   "cell_type": "code",
   "execution_count": null,
   "metadata": {
    "collapsed": true
   },
   "outputs": [],
   "source": []
  }
 ],
 "metadata": {
  "kernelspec": {
   "display_name": "Python [default]",
   "language": "python",
   "name": "python3"
  },
  "language_info": {
   "codemirror_mode": {
    "name": "ipython",
    "version": 3
   },
   "file_extension": ".py",
   "mimetype": "text/x-python",
   "name": "python",
   "nbconvert_exporter": "python",
   "pygments_lexer": "ipython3",
   "version": "3.5.4"
  }
 },
 "nbformat": 4,
 "nbformat_minor": 2
}
