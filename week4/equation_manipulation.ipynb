{
 "cells": [
  {
   "cell_type": "markdown",
   "metadata": {},
   "source": [
    "# 式変形"
   ]
  },
  {
   "cell_type": "code",
   "execution_count": 37,
   "metadata": {},
   "outputs": [],
   "source": [
    "from IPython.display import display # display(code)で数式をキレイに表示可能\n",
    "init_printing(use_latex=True)"
   ]
  },
  {
   "cell_type": "markdown",
   "metadata": {},
   "source": [
    "## 簡単化"
   ]
  },
  {
   "cell_type": "code",
   "execution_count": 2,
   "metadata": {},
   "outputs": [
    {
     "data": {
      "text/plain": [
       "7*x + 2*y"
      ]
     },
     "execution_count": 2,
     "metadata": {},
     "output_type": "execute_result"
    }
   ],
   "source": [
    "from sympy import *\n",
    "x,y = symbols('x y')\n",
    "simplify(3*x+4*x+2*y)"
   ]
  },
  {
   "cell_type": "code",
   "execution_count": 3,
   "metadata": {},
   "outputs": [
    {
     "data": {
      "text/plain": [
       "4*sin(x)**3 - sin(x)"
      ]
     },
     "execution_count": 3,
     "metadata": {},
     "output_type": "execute_result"
    }
   ],
   "source": [
    "exp1=3*sin(x)**3-sin(x)*cos(x)**2\n",
    "simplify(exp1)"
   ]
  },
  {
   "cell_type": "markdown",
   "metadata": {},
   "source": [
    "## 展開(expand)"
   ]
  },
  {
   "cell_type": "code",
   "execution_count": 4,
   "metadata": {},
   "outputs": [
    {
     "data": {
      "text/plain": [
       "x**2 + 2*x*y + y**2"
      ]
     },
     "execution_count": 4,
     "metadata": {},
     "output_type": "execute_result"
    }
   ],
   "source": [
    "expand((x+y)**2)"
   ]
  },
  {
   "cell_type": "markdown",
   "metadata": {},
   "source": [
    "## 因数分解(factor)"
   ]
  },
  {
   "cell_type": "code",
   "execution_count": 5,
   "metadata": {},
   "outputs": [
    {
     "data": {
      "text/plain": [
       "2*(x - y)*(2*x - y)"
      ]
     },
     "execution_count": 5,
     "metadata": {},
     "output_type": "execute_result"
    }
   ],
   "source": [
    "factor(4*x**2-6*x*y+2*y**2)"
   ]
  },
  {
   "cell_type": "markdown",
   "metadata": {},
   "source": [
    "## 約分・通分(normal)"
   ]
  },
  {
   "cell_type": "code",
   "execution_count": 6,
   "metadata": {},
   "outputs": [
    {
     "data": {
      "text/plain": [
       "1/(x - 4*y)"
      ]
     },
     "execution_count": 6,
     "metadata": {},
     "output_type": "execute_result"
    }
   ],
   "source": [
    "simplify((x+y)/(x**2-3*x*y-4*y**2))"
   ]
  },
  {
   "cell_type": "code",
   "execution_count": 7,
   "metadata": {},
   "outputs": [
    {
     "data": {
      "text/plain": [
       "(x + y)/(x*y)"
      ]
     },
     "execution_count": 7,
     "metadata": {},
     "output_type": "execute_result"
    }
   ],
   "source": [
    "together(1/x+1/y)"
   ]
  },
  {
   "cell_type": "markdown",
   "metadata": {},
   "source": [
    "## 項を変数でまとめる(collect)"
   ]
  },
  {
   "cell_type": "code",
   "execution_count": 9,
   "metadata": {},
   "outputs": [
    {
     "data": {
      "text/plain": [
       "4*a*x**2 + y**2*(2 - 3/x) + y*(6*b*x + 3*c)"
      ]
     },
     "execution_count": 9,
     "metadata": {},
     "output_type": "execute_result"
    }
   ],
   "source": [
    "a,b,c = symbols('a b c')\n",
    "collect(4*a*x**2-3*y**2/x+6*b*x*y+3*c*y+2*y**2,y)"
   ]
  },
  {
   "cell_type": "markdown",
   "metadata": {},
   "source": [
    "## 分母、分子(denom, numer)"
   ]
  },
  {
   "cell_type": "code",
   "execution_count": 15,
   "metadata": {},
   "outputs": [
    {
     "data": {
      "image/png": "[encoded data removed]",
      "text/latex": [
       "$$\\left(x + 1\\right)^{2}$$"
      ],
      "text/plain": [
       "       2\n",
       "(x + 1) "
      ]
     },
     "metadata": {},
     "output_type": "display_data"
    },
    {
     "data": {
      "image/png": "[encoded data removed]",
      "text/latex": [
       "$$a \\left(x - 1\\right) + b \\left(x + 3\\right)$$"
      ],
      "text/plain": [
       "a⋅(x - 1) + b⋅(x + 3)"
      ]
     },
     "metadata": {},
     "output_type": "display_data"
    }
   ],
   "source": [
    "a,b,c, x = symbols('a b c x')\n",
    "frac = (1+x)**2/(a*(x-1)+b*(x+3))\n",
    "n,d = fraction(frac)\n",
    "display(n)\n",
    "display(d)"
   ]
  },
  {
   "cell_type": "markdown",
   "metadata": {},
   "source": [
    "## 係数(coeff)"
   ]
  },
  {
   "cell_type": "code",
   "execution_count": 17,
   "metadata": {},
   "outputs": [
    {
     "data": {
      "image/png": "[encoded data removed]",
      "text/latex": [
       "$$a + b x + c x^{2} + x$$"
      ],
      "text/plain": [
       "             2    \n",
       "a + b⋅x + c⋅x  + x"
      ]
     },
     "metadata": {},
     "output_type": "display_data"
    },
    {
     "data": {
      "image/png": "[encoded data removed]",
      "text/latex": [
       "$$b + 1$$"
      ],
      "text/plain": [
       "b + 1"
      ]
     },
     "execution_count": 17,
     "metadata": {},
     "output_type": "execute_result"
    }
   ],
   "source": [
    "eq = a+x+b*x+c*x**2\n",
    "display(eq)\n",
    "eq.coeff(x)"
   ]
  },
  {
   "cell_type": "code",
   "execution_count": 18,
   "metadata": {},
   "outputs": [
    {
     "data": {
      "image/png": "[encoded data removed]",
      "text/latex": [
       "$$\\left \\{ a : 1, \\quad x : 1, \\quad b x : 1, \\quad c x^{2} : 1\\right \\}$$"
      ],
      "text/plain": [
       "defaultdict(int,\n",
       "            ⎧                       2   ⎫\n",
       "⎨a: 1, x: 1, b⋅x: 1, c⋅x : 1⎬\n",
       "⎩                           ⎭)"
      ]
     },
     "execution_count": 18,
     "metadata": {},
     "output_type": "execute_result"
    }
   ],
   "source": [
    "eq.as_coefficients_dict()"
   ]
  },
  {
   "cell_type": "code",
   "execution_count": 19,
   "metadata": {},
   "outputs": [
    {
     "name": "stdout",
     "output_type": "stream",
     "text": [
      "[a, b + 1, c]\n"
     ]
    }
   ],
   "source": [
    "eq0 = Poly(eq, x)\n",
    "coeffs = eq0.coeffs()\n",
    "print(coeffs[::-1])"
   ]
  },
  {
   "cell_type": "markdown",
   "metadata": {},
   "source": [
    "## 課題"
   ]
  },
  {
   "cell_type": "markdown",
   "metadata": {},
   "source": [
    "### 因数分解"
   ]
  },
  {
   "cell_type": "markdown",
   "metadata": {},
   "source": [
    "1."
   ]
  },
  {
   "cell_type": "code",
   "execution_count": 20,
   "metadata": {},
   "outputs": [
    {
     "data": {
      "image/png": "[encoded data removed]",
      "text/latex": [
       "$$\\left(x - 2\\right) \\left(x^{2} + 2 x + 4\\right)$$"
      ],
      "text/plain": [
       "        ⎛ 2          ⎞\n",
       "(x - 2)⋅⎝x  + 2⋅x + 4⎠"
      ]
     },
     "execution_count": 20,
     "metadata": {},
     "output_type": "execute_result"
    }
   ],
   "source": [
    "x = symbols('x')\n",
    "factor(x**3 - 8)"
   ]
  },
  {
   "cell_type": "markdown",
   "metadata": {},
   "source": [
    "2."
   ]
  },
  {
   "cell_type": "code",
   "execution_count": 22,
   "metadata": {},
   "outputs": [
    {
     "data": {
      "image/png": "[encoded data removed]",
      "text/latex": [
       "$$\\left(a + x\\right) \\left(- b + x\\right) \\left(- c + x\\right)$$"
      ],
      "text/plain": [
       "(a + x)⋅(-b + x)⋅(-c + x)"
      ]
     },
     "execution_count": 22,
     "metadata": {},
     "output_type": "execute_result"
    }
   ],
   "source": [
    "x,a,b,c = symbols('x a b c')\n",
    "factor(a*b*c - a*b*x - a*c*x + a*x**2 + b*c*x - b*x**2 - c*x**2 + x**3)"
   ]
  },
  {
   "cell_type": "markdown",
   "metadata": {},
   "source": [
    "### 部分分数"
   ]
  },
  {
   "cell_type": "markdown",
   "metadata": {},
   "source": [
    "1. "
   ]
  },
  {
   "cell_type": "code",
   "execution_count": 26,
   "metadata": {},
   "outputs": [
    {
     "data": {
      "image/png": "[encoded data removed]",
      "text/latex": [
       "$$- \\frac{x}{\\left(x^{2} + 1\\right)^{2}} - \\frac{x + 1}{2 \\left(x^{2} + 1\\right)} + \\frac{1}{2 \\left(x - 1\\right)}$$"
      ],
      "text/plain": [
       "      x         x + 1          1    \n",
       "- ───────── - ────────── + ─────────\n",
       "          2     ⎛ 2    ⎞   2⋅(x - 1)\n",
       "  ⎛ 2    ⎞    2⋅⎝x  + 1⎠            \n",
       "  ⎝x  + 1⎠                          "
      ]
     },
     "execution_count": 26,
     "metadata": {},
     "output_type": "execute_result"
    }
   ],
   "source": [
    "x = symbols('x')\n",
    "apart((x+1)/((x-1)*(x**2+1)**2))"
   ]
  },
  {
   "cell_type": "markdown",
   "metadata": {},
   "source": [
    "2."
   ]
  },
  {
   "cell_type": "code",
   "execution_count": 29,
   "metadata": {},
   "outputs": [
    {
     "data": {
      "image/png": "[encoded data removed]",
      "text/latex": [
       "$$\\frac{3}{2 \\left(x^{2} + 1\\right)} + \\frac{3}{4 \\left(x + 1\\right)} - \\frac{3}{4 \\left(x - 1\\right)}$$"
      ],
      "text/plain": [
       "    3            3           3    \n",
       "────────── + ───────── - ─────────\n",
       "  ⎛ 2    ⎞   4⋅(x + 1)   4⋅(x - 1)\n",
       "2⋅⎝x  + 1⎠                        "
      ]
     },
     "execution_count": 29,
     "metadata": {},
     "output_type": "execute_result"
    }
   ],
   "source": [
    "x,a,b,c = symbols('x a b c')\n",
    "apart(3/(1-x**4))"
   ]
  },
  {
   "cell_type": "markdown",
   "metadata": {},
   "source": [
    "$$\n",
    "a=\\frac{3}{2}, b=\\frac{3}{4}, c=-\\frac{3}{4}\n",
    "$$"
   ]
  },
  {
   "cell_type": "markdown",
   "metadata": {},
   "source": [
    "### 分母の有理化"
   ]
  },
  {
   "cell_type": "code",
   "execution_count": 31,
   "metadata": {},
   "outputs": [
    {
     "data": {
      "image/png": "[encoded data removed]",
      "text/latex": [
       "$$10$$"
      ],
      "text/plain": [
       "10"
      ]
     },
     "execution_count": 31,
     "metadata": {},
     "output_type": "execute_result"
    }
   ],
   "source": [
    "radsimp((8/(3-sqrt(5))) - (2/(2+sqrt(5))))"
   ]
  },
  {
   "cell_type": "markdown",
   "metadata": {},
   "source": [
    "### 複合問題"
   ]
  },
  {
   "cell_type": "code",
   "execution_count": 32,
   "metadata": {},
   "outputs": [
    {
     "data": {
      "image/png": "[encoded data removed]",
      "text/latex": [
       "$$\\left [ - \\frac{1}{2} + \\frac{\\sqrt{21}}{2}, \\quad - \\frac{\\sqrt{21}}{2} - \\frac{1}{2}\\right ]$$"
      ],
      "text/plain": [
       "⎡  1   √21    √21   1⎤\n",
       "⎢- ─ + ───, - ─── - ─⎥\n",
       "⎣  2    2      2    2⎦"
      ]
     },
     "execution_count": 32,
     "metadata": {},
     "output_type": "execute_result"
    }
   ],
   "source": [
    "k,x = symbols('k x')\n",
    "eq=x**2 +2*k*x+5-k\n",
    "sol = solve(eq,x)\n",
    "solve(sol[0]-sol[1],k)"
   ]
  },
  {
   "cell_type": "markdown",
   "metadata": {},
   "source": [
    "### 数式処理問題の典型例:2次関数の頂点 "
   ]
  },
  {
   "cell_type": "code",
   "execution_count": 39,
   "metadata": {},
   "outputs": [
    {
     "data": {
      "image/png": "[encoded data removed]",
      "text/latex": [
       "$$a x^{2} - a - b x + b$$"
      ],
      "text/plain": [
       "   2              \n",
       "a⋅x  - a - b⋅x + b"
      ]
     },
     "metadata": {},
     "output_type": "display_data"
    }
   ],
   "source": [
    "a,b,x = symbols('a b x')\n",
    "\n",
    "f = a*x**2 - b*x - a + b\n",
    "display(f)"
   ]
  },
  {
   "cell_type": "code",
   "execution_count": 53,
   "metadata": {},
   "outputs": [
    {
     "data": {
      "image/png": "[encoded data removed]",
      "text/latex": [
       "$$- a + 2$$"
      ],
      "text/plain": [
       "-a + 2"
      ]
     },
     "metadata": {},
     "output_type": "display_data"
    }
   ],
   "source": [
    "b_s = solve(f.subs({x:-2})-6,b)[0] # f にx=-2, y=6を代入。bについて解く\n",
    "display(b_s)"
   ]
  },
  {
   "cell_type": "code",
   "execution_count": 51,
   "metadata": {},
   "outputs": [
    {
     "data": {
      "image/png": "[encoded data removed]",
      "text/latex": [
       "$$\\frac{b}{2 a}$$"
      ],
      "text/plain": [
       " b \n",
       "───\n",
       "2⋅a"
      ]
     },
     "metadata": {},
     "output_type": "display_data"
    }
   ],
   "source": [
    "f_diff = solve(diff(f,x),x)[0] # fをxで微分して、xについて解く\n",
    "display(f_diff)"
   ]
  },
  {
   "cell_type": "code",
   "execution_count": 56,
   "metadata": {},
   "outputs": [
    {
     "data": {
      "image/png": "[encoded data removed]",
      "text/latex": [
       "$$\\frac{- a + 2}{2 a}$$"
      ],
      "text/plain": [
       "-a + 2\n",
       "──────\n",
       " 2⋅a  "
      ]
     },
     "metadata": {},
     "output_type": "display_data"
    }
   ],
   "source": [
    "x0 = f_diff.subs({b:b_s}) # x=0のとき\n",
    "display(x0)"
   ]
  },
  {
   "cell_type": "code",
   "execution_count": 61,
   "metadata": {},
   "outputs": [
    {
     "data": {
      "image/png": "[encoded data removed]",
      "text/latex": [
       "$$- 2 a + 2 - \\frac{\\left(- a + 2\\right)^{2}}{4 a}$$"
      ],
      "text/plain": [
       "                   2\n",
       "           (-a + 2) \n",
       "-2⋅a + 2 - ─────────\n",
       "              4⋅a   "
      ]
     },
     "metadata": {},
     "output_type": "display_data"
    },
    {
     "data": {
      "image/png": "[encoded data removed]",
      "text/latex": [
       "$$- \\frac{\\left(3 a - 2\\right)^{2}}{4 a}$$"
      ],
      "text/plain": [
       "          2 \n",
       "-(3⋅a - 2)  \n",
       "────────────\n",
       "    4⋅a     "
      ]
     },
     "metadata": {},
     "output_type": "display_data"
    }
   ],
   "source": [
    "y0 = f.subs({x:x0, b:b_s})\n",
    "display(y0)\n",
    "display(factor(y0))"
   ]
  },
  {
   "cell_type": "markdown",
   "metadata": {},
   "source": [
    "#### 課題1"
   ]
  },
  {
   "cell_type": "code",
   "execution_count": 69,
   "metadata": {},
   "outputs": [
    {
     "data": {
      "image/png": "[encoded data removed]",
      "text/latex": [
       "$$9 a^{2} - 20 a + 4$$"
      ],
      "text/plain": [
       "   2           \n",
       "9⋅a  - 20⋅a + 4"
      ]
     },
     "metadata": {},
     "output_type": "display_data"
    }
   ],
   "source": [
    "ans1 = expand((y0+2)*(-4*a))\n",
    "display(ans1)"
   ]
  },
  {
   "cell_type": "code",
   "execution_count": 74,
   "metadata": {},
   "outputs": [
    {
     "data": {
      "image/png": "[encoded data removed]",
      "text/latex": [
       "$$\\left [ \\frac{2}{9}, \\quad 2\\right ]$$"
      ],
      "text/plain": [
       "[2/9, 2]"
      ]
     },
     "metadata": {},
     "output_type": "display_data"
    }
   ],
   "source": [
    "ans2 = solve(ans1,a)\n",
    "display(ans2)"
   ]
  },
  {
   "cell_type": "code",
   "execution_count": 75,
   "metadata": {},
   "outputs": [
    {
     "data": {
      "image/png": "[encoded data removed]",
      "text/latex": [
       "$$\\frac{2}{9}$$"
      ],
      "text/plain": [
       "2/9"
      ]
     },
     "metadata": {},
     "output_type": "display_data"
    }
   ],
   "source": [
    "aa = min(ans2)\n",
    "display(aa)"
   ]
  },
  {
   "cell_type": "code",
   "execution_count": 84,
   "metadata": {},
   "outputs": [
    {
     "data": {
      "image/png": "[encoded data removed]",
      "text/latex": [
       "$$4$$"
      ],
      "text/plain": [
       "4"
      ]
     },
     "metadata": {},
     "output_type": "display_data"
    }
   ],
   "source": [
    "ans3 = x0.subs({a:aa})\n",
    "display(ans3)"
   ]
  },
  {
   "cell_type": "code",
   "execution_count": 101,
   "metadata": {},
   "outputs": [
    {
     "data": {
      "image/png": "[encoded data removed]",
      "text/latex": [
       "$$\\left [ 1, \\quad 7\\right ]$$"
      ],
      "text/plain": [
       "[1, 7]"
      ]
     },
     "metadata": {},
     "output_type": "display_data"
    },
    {
     "name": "stdout",
     "output_type": "stream",
     "text": [
      "[1, 7]\n"
     ]
    }
   ],
   "source": [
    "bb = b_s\n",
    "ans4 = f.subs({b:bb}).subs({a:aa})\n",
    "ans5 = solve(ans4,x)\n",
    "display(ans5)"
   ]
  },
  {
   "cell_type": "code",
   "execution_count": 102,
   "metadata": {},
   "outputs": [
    {
     "data": {
      "image/png": "[encoded data removed]",
      "text/plain": [
       "<matplotlib.figure.Figure at 0x10a6a1f98>"
      ]
     },
     "metadata": {},
     "output_type": "display_data"
    },
    {
     "data": {
      "text/plain": [
       "<sympy.plotting.plot.Plot at 0x10a6a1f28>"
      ]
     },
     "execution_count": 102,
     "metadata": {},
     "output_type": "execute_result"
    }
   ],
   "source": [
    "%matplotlib inline\n",
    "plot(ans4,(x,0,9))"
   ]
  },
  {
   "cell_type": "code",
   "execution_count": 103,
   "metadata": {},
   "outputs": [
    {
     "name": "stdout",
     "output_type": "stream",
     "text": [
      "-2\n",
      "32/9\n"
     ]
    }
   ],
   "source": [
    "print(ans4.subs({x:4}))\n",
    "print(ans4.subs({x:9}))"
   ]
  },
  {
   "cell_type": "markdown",
   "metadata": {},
   "source": [
    "####  課題2"
   ]
  },
  {
   "cell_type": "code",
   "execution_count": 106,
   "metadata": {},
   "outputs": [],
   "source": [
    "a,b,x = symbols('a b x')\n",
    "\n",
    "P = x*(x+3)*(2*x-3)"
   ]
  },
  {
   "cell_type": "code",
   "execution_count": 108,
   "metadata": {},
   "outputs": [
    {
     "data": {
      "image/png": "[encoded data removed]",
      "text/latex": [
       "$$2 a^{3} + 9 a^{2} + 3 a - 4$$"
      ],
      "text/plain": [
       "   3      2          \n",
       "2⋅a  + 9⋅a  + 3⋅a - 4"
      ]
     },
     "metadata": {},
     "output_type": "display_data"
    }
   ],
   "source": [
    "ans2_1 = expand(P.subs({x:a+1}))\n",
    "display(ans2_1)"
   ]
  },
  {
   "cell_type": "code",
   "execution_count": 111,
   "metadata": {},
   "outputs": [
    {
     "data": {
      "image/png": "[encoded data removed]",
      "text/latex": [
       "$$3 a^{2} + 6 a - 2$$"
      ],
      "text/plain": [
       "   2          \n",
       "3⋅a  + 6⋅a - 2"
      ]
     },
     "metadata": {},
     "output_type": "display_data"
    }
   ],
   "source": [
    "ans2_2 = expand(ans2_1 - P.subs({x:a}))\n",
    "display(ans2_2/2)"
   ]
  },
  {
   "cell_type": "code",
   "execution_count": 114,
   "metadata": {},
   "outputs": [
    {
     "data": {
      "image/png": "[encoded data removed]",
      "text/latex": [
       "$$\\left [ -1 + \\frac{\\sqrt{15}}{3}, \\quad - \\frac{\\sqrt{15}}{3} - 1\\right ]$$"
      ],
      "text/plain": [
       "⎡     √15    √15    ⎤\n",
       "⎢-1 + ───, - ─── - 1⎥\n",
       "⎣      3      3     ⎦"
      ]
     },
     "metadata": {},
     "output_type": "display_data"
    }
   ],
   "source": [
    "ans2_3 = solve(ans2_2, a)\n",
    "display(ans2_3)"
   ]
  },
  {
   "cell_type": "markdown",
   "metadata": {},
   "source": [
    "### 式フォローのデフォルト"
   ]
  },
  {
   "cell_type": "code",
   "execution_count": 124,
   "metadata": {},
   "outputs": [
    {
     "data": {
      "image/png": "[encoded data removed]",
      "text/latex": [
       "$$0$$"
      ],
      "text/plain": [
       "0"
      ]
     },
     "execution_count": 124,
     "metadata": {},
     "output_type": "execute_result"
    }
   ],
   "source": [
    "ex1 = (x-3)**4 # (1)式\n",
    "ex2 = x**4-12*x**3+54*x**2-108*x+81 # (2)式\n",
    "\n",
    "expand(ex1-ex2) # (1) == (2)?"
   ]
  },
  {
   "cell_type": "markdown",
   "metadata": {},
   "source": [
    "## assumeの具体例 : 無限積分"
   ]
  },
  {
   "cell_type": "code",
   "execution_count": 127,
   "metadata": {},
   "outputs": [
    {
     "data": {
      "image/png": "[encoded data removed]",
      "text/latex": [
       "$$x \\left(\\beta g x^{3} + 1\\right) e^{- \\beta c x^{2}}$$"
      ],
      "text/plain": [
       "                      2\n",
       "  ⎛     3    ⎞  -β⋅c⋅x \n",
       "x⋅⎝β⋅g⋅x  + 1⎠⋅ℯ       "
      ]
     },
     "metadata": {},
     "output_type": "display_data"
    },
    {
     "data": {
      "image/png": "[encoded data removed]",
      "text/latex": [
       "$$\\begin{cases} \\frac{3 \\sqrt{\\pi} g}{4 c \\operatorname{polar\\_lift}^{\\frac{3}{2}}{\\left (\\beta \\right )} \\operatorname{polar\\_lift}^{\\frac{3}{2}}{\\left (c \\right )}} & \\text{for}\\: \\left|{\\operatorname{periodic_{argument}}{\\left (\\operatorname{polar\\_lift}{\\left (\\beta \\right )} \\operatorname{polar\\_lift}{\\left (c \\right )},\\infty \\right )}}\\right| < \\frac{\\pi}{2} \\\\\\int_{-\\infty}^{\\infty} x \\left(\\beta g x^{3} + 1\\right) e^{- \\beta c x^{2}}\\, dx & \\text{otherwise} \\end{cases}$$"
      ],
      "text/plain": [
       "⎧                3⋅√π⋅g                                                       \n",
       "⎪─────────────────────────────────────  for │periodic_argument(polar_lift(β)⋅p\n",
       "⎪              3/2              3/2                                           \n",
       "⎪4⋅c⋅polar_lift   (β)⋅polar_lift   (c)                                        \n",
       "⎪                                                                             \n",
       "⎪    ∞                                                                        \n",
       "⎨    ⌠                                                                        \n",
       "⎪    ⎮                        2                                               \n",
       "⎪    ⎮    ⎛     3    ⎞  -β⋅c⋅x                                                \n",
       "⎪    ⎮  x⋅⎝β⋅g⋅x  + 1⎠⋅ℯ        dx                               otherwise    \n",
       "⎪    ⌡                                                                        \n",
       "⎪    -∞                                                                       \n",
       "⎩                                                                             \n",
       "\n",
       "                    π\n",
       "olar_lift(c), ∞)│ < ─\n",
       "                    2\n",
       "                     \n",
       "                     \n",
       "                     \n",
       "                     \n",
       "                     \n",
       "                     \n",
       "                     \n",
       "                     \n",
       "                     \n",
       "                     "
      ]
     },
     "metadata": {},
     "output_type": "display_data"
    }
   ],
   "source": [
    "init_printing()\n",
    "\n",
    "\n",
    "x,beta,c,g = symbols('x beta c g')\n",
    "f1 = x*exp(-beta*c*x**2)*(1+beta*g*x**3)\n",
    "\n",
    "display(f1)\n",
    "display(integrate(f1,(x,-oo,oo)))"
   ]
  }
 ],
 "metadata": {
  "kernelspec": {
   "display_name": "Python 3",
   "language": "python",
   "name": "python3"
  },
  "language_info": {
   "codemirror_mode": {
    "name": "ipython",
    "version": 3
   },
   "file_extension": ".py",
   "mimetype": "text/x-python",
   "name": "python",
   "nbconvert_exporter": "python",
   "pygments_lexer": "ipython3",
   "version": "3.6.4"
  }
 },
 "nbformat": 4,
 "nbformat_minor": 2
}
