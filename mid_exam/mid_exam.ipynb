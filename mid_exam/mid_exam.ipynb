{
 "cells": [
  {
   "cell_type": "code",
   "execution_count": 1,
   "metadata": {},
   "outputs": [],
   "source": [
    "from sympy import *\n",
    "init_printing(use_latex=True)\n",
    "from IPython.display import display"
   ]
  },
  {
   "cell_type": "markdown",
   "metadata": {},
   "source": [
    "## (1)"
   ]
  },
  {
   "cell_type": "markdown",
   "metadata": {},
   "source": [
    "### (a)"
   ]
  },
  {
   "cell_type": "code",
   "execution_count": 27,
   "metadata": {},
   "outputs": [
    {
     "data": {
      "image/png": "[encoded data removed]",
      "text/latex": [
       "$$\\frac{1}{\\sin{\\left (\\frac{x^{2} - 1}{x^{2} + 1} \\right )}}$$"
      ],
      "text/plain": [
       "     1     \n",
       "───────────\n",
       "   ⎛ 2    ⎞\n",
       "   ⎜x  - 1⎟\n",
       "sin⎜──────⎟\n",
       "   ⎜ 2    ⎟\n",
       "   ⎝x  + 1⎠"
      ]
     },
     "metadata": {},
     "output_type": "display_data"
    },
    {
     "data": {
      "image/png": "[encoded data removed]",
      "text/latex": [
       "$$- \\frac{\\cos{\\left (\\frac{x^{2} - 1}{x^{2} + 1} \\right )}}{\\sin^{2}{\\left (\\frac{x^{2} - 1}{x^{2} + 1} \\right )}} \\left(- \\frac{2 x \\left(x^{2} - 1\\right)}{\\left(x^{2} + 1\\right)^{2}} + \\frac{2 x}{x^{2} + 1}\\right)$$"
      ],
      "text/plain": [
       " ⎛      ⎛ 2    ⎞         ⎞    ⎛ 2    ⎞ \n",
       " ⎜  2⋅x⋅⎝x  - 1⎠    2⋅x  ⎟    ⎜x  - 1⎟ \n",
       "-⎜- ──────────── + ──────⎟⋅cos⎜──────⎟ \n",
       " ⎜           2      2    ⎟    ⎜ 2    ⎟ \n",
       " ⎜   ⎛ 2    ⎞      x  + 1⎟    ⎝x  + 1⎠ \n",
       " ⎝   ⎝x  + 1⎠            ⎠             \n",
       "───────────────────────────────────────\n",
       "                  ⎛ 2    ⎞             \n",
       "                 2⎜x  - 1⎟             \n",
       "              sin ⎜──────⎟             \n",
       "                  ⎜ 2    ⎟             \n",
       "                  ⎝x  + 1⎠             "
      ]
     },
     "metadata": {},
     "output_type": "display_data"
    }
   ],
   "source": [
    "x = symbols('x', positive=True)\n",
    "tmp1 = sin((x**2-1)/(x**2+1))**-1\n",
    "display(tmp1)\n",
    "tmp2 = diff(tmp1,x)\n",
    "display(tmp2)"
   ]
  },
  {
   "cell_type": "markdown",
   "metadata": {},
   "source": [
    "### (b)"
   ]
  },
  {
   "cell_type": "code",
   "execution_count": 25,
   "metadata": {},
   "outputs": [
    {
     "data": {
      "image/png": "[encoded data removed]",
      "text/latex": [
       "$$\\sqrt{x^{2} + 4 y^{2}}$$"
      ],
      "text/plain": [
       "   ___________\n",
       "  ╱  2      2 \n",
       "╲╱  x  + 4⋅y  "
      ]
     },
     "metadata": {},
     "output_type": "display_data"
    },
    {
     "data": {
      "image/png": "[encoded data removed]",
      "text/latex": [
       "$$2 y^{2} \\operatorname{asinh}{\\left (\\frac{1}{2} \\right )} + \\frac{\\sqrt{5} y^{2}}{2}$$"
      ],
      "text/plain": [
       "                      2\n",
       "   2              √5⋅y \n",
       "2⋅y ⋅asinh(1/2) + ─────\n",
       "                    2  "
      ]
     },
     "metadata": {},
     "output_type": "display_data"
    },
    {
     "data": {
      "image/png": "[encoded data removed]",
      "text/latex": [
       "$$\\frac{2}{3} \\operatorname{asinh}{\\left (\\frac{1}{2} \\right )} + \\frac{\\sqrt{5}}{6}$$"
      ],
      "text/plain": [
       "2⋅asinh(1/2)   √5\n",
       "──────────── + ──\n",
       "     3         6 "
      ]
     },
     "metadata": {},
     "output_type": "display_data"
    }
   ],
   "source": [
    "x, y = symbols('x y', positive=True)\n",
    "tmp1 = sqrt(x**2+4*y**2)\n",
    "display(tmp1)\n",
    "tmp2 = integrate(tmp1, (x,0,y))\n",
    "display(tmp2)\n",
    "tmp3 = integrate(tmp2, (y,0,1))\n",
    "display(tmp3)"
   ]
  },
  {
   "cell_type": "markdown",
   "metadata": {},
   "source": [
    "## 2 "
   ]
  },
  {
   "cell_type": "markdown",
   "metadata": {},
   "source": [
    "### (a)"
   ]
  },
  {
   "cell_type": "code",
   "execution_count": 45,
   "metadata": {},
   "outputs": [
    {
     "data": {
      "image/png": "[encoded data removed]",
      "text/latex": [
       "$$\\left[\\begin{matrix}1 & 1 & 3 & 3\\\\0 & 1 & 1 & 2\\\\1 & 0 & 2 & 1\\end{matrix}\\right]$$"
      ],
      "text/plain": [
       "⎡1  1  3  3⎤\n",
       "⎢          ⎥\n",
       "⎢0  1  1  2⎥\n",
       "⎢          ⎥\n",
       "⎣1  0  2  1⎦"
      ]
     },
     "metadata": {},
     "output_type": "display_data"
    },
    {
     "name": "stdout",
     "output_type": "stream",
     "text": [
      "kernel f の 次元\n"
     ]
    },
    {
     "data": {
      "image/png": "[encoded data removed]",
      "text/latex": [
       "$$2$$"
      ],
      "text/plain": [
       "2"
      ]
     },
     "metadata": {},
     "output_type": "display_data"
    },
    {
     "name": "stdout",
     "output_type": "stream",
     "text": [
      "dim f の 次元\n"
     ]
    },
    {
     "data": {
      "image/png": "[encoded data removed]",
      "text/latex": [
       "$$2$$"
      ],
      "text/plain": [
       "2"
      ]
     },
     "metadata": {},
     "output_type": "display_data"
    },
    {
     "name": "stdout",
     "output_type": "stream",
     "text": [
      "im f の1組の基底？\n"
     ]
    },
    {
     "data": {
      "image/png": "[encoded data removed]",
      "text/latex": [
       "$$\\left[\\begin{matrix}1\\\\0\\\\1\\end{matrix}\\right]$$"
      ],
      "text/plain": [
       "⎡1⎤\n",
       "⎢ ⎥\n",
       "⎢0⎥\n",
       "⎢ ⎥\n",
       "⎣1⎦"
      ]
     },
     "metadata": {},
     "output_type": "display_data"
    },
    {
     "data": {
      "image/png": "[encoded data removed]",
      "text/latex": [
       "$$\\left[\\begin{matrix}1\\\\1\\\\0\\end{matrix}\\right]$$"
      ],
      "text/plain": [
       "⎡1⎤\n",
       "⎢ ⎥\n",
       "⎢1⎥\n",
       "⎢ ⎥\n",
       "⎣0⎦"
      ]
     },
     "metadata": {},
     "output_type": "display_data"
    },
    {
     "name": "stdout",
     "output_type": "stream",
     "text": [
      "ker f の1組の基底\n"
     ]
    },
    {
     "data": {
      "image/png": "[encoded data removed]",
      "text/latex": [
       "$$\\left [ \\left[\\begin{matrix}-2\\\\-1\\\\1\\\\0\\end{matrix}\\right], \\quad \\left[\\begin{matrix}-1\\\\-2\\\\0\\\\1\\end{matrix}\\right]\\right ]$$"
      ],
      "text/plain": [
       "⎡⎡-2⎤  ⎡-1⎤⎤\n",
       "⎢⎢  ⎥  ⎢  ⎥⎥\n",
       "⎢⎢-1⎥  ⎢-2⎥⎥\n",
       "⎢⎢  ⎥, ⎢  ⎥⎥\n",
       "⎢⎢1 ⎥  ⎢0 ⎥⎥\n",
       "⎢⎢  ⎥  ⎢  ⎥⎥\n",
       "⎣⎣0 ⎦  ⎣1 ⎦⎦"
      ]
     },
     "metadata": {},
     "output_type": "display_data"
    }
   ],
   "source": [
    "A = Matrix([\n",
    "    [1,1,3,3],\n",
    "    [0,1,1,2],\n",
    "    [1,0,2,1],\n",
    "])\n",
    "display(A)\n",
    "\n",
    "print(\"kernel f の 次元\")\n",
    "display(A.rank())\n",
    "print(\"dim f の 次元\")\n",
    "display(A.shape[1] - A.rank())\n",
    "\n",
    "print(\"im f の1組の基底？\")\n",
    "display(A[:,0])\n",
    "display(A[:,1])\n",
    "print(\"ker f の1組の基底\")\n",
    "display(A.nullspace())"
   ]
  },
  {
   "cell_type": "markdown",
   "metadata": {},
   "source": [
    "### (b)"
   ]
  },
  {
   "cell_type": "code",
   "execution_count": 58,
   "metadata": {},
   "outputs": [
    {
     "data": {
      "image/png": "[encoded data removed]",
      "text/latex": [
       "$$\\left[\\begin{matrix}0.5 & 0 & 0.5\\\\0 & 0.5 & 0.5\\\\0.5 & 0.5 & 0\\end{matrix}\\right]$$"
      ],
      "text/plain": [
       "⎡0.5   0   0.5⎤\n",
       "⎢             ⎥\n",
       "⎢ 0   0.5  0.5⎥\n",
       "⎢             ⎥\n",
       "⎣0.5  0.5   0 ⎦"
      ]
     },
     "metadata": {},
     "output_type": "display_data"
    },
    {
     "name": "stdout",
     "output_type": "stream",
     "text": [
      "変換行列P\n"
     ]
    },
    {
     "data": {
      "image/png": "[encoded data removed]",
      "text/latex": [
       "$$\\left[\\begin{matrix}-1.0 & -1.0 & 1.0\\\\-1.0 & 1.0 & 1.0\\\\2.0 & 0 & 1.0\\end{matrix}\\right]$$"
      ],
      "text/plain": [
       "⎡-1.0  -1.0  1.0⎤\n",
       "⎢               ⎥\n",
       "⎢-1.0  1.0   1.0⎥\n",
       "⎢               ⎥\n",
       "⎣2.0    0    1.0⎦"
      ]
     },
     "metadata": {},
     "output_type": "display_data"
    },
    {
     "name": "stdout",
     "output_type": "stream",
     "text": [
      "対角化\n"
     ]
    },
    {
     "data": {
      "image/png": "[encoded data removed]",
      "text/latex": [
       "$$\\left[\\begin{matrix}-0.5 & 0 & 0\\\\0 & 0.5 & 0\\\\0 & 0 & 1.0\\end{matrix}\\right]$$"
      ],
      "text/plain": [
       "⎡-0.5   0    0 ⎤\n",
       "⎢              ⎥\n",
       "⎢ 0    0.5   0 ⎥\n",
       "⎢              ⎥\n",
       "⎣ 0     0   1.0⎦"
      ]
     },
     "metadata": {},
     "output_type": "display_data"
    }
   ],
   "source": [
    "A = Matrix([\n",
    "    [1/2, 0, 1/2],\n",
    "    [0,1/2,1/2],\n",
    "    [1/2,1/2,0],\n",
    "])\n",
    "P, D = A.diagonalize()\n",
    "display(A)\n",
    "print(\"変換行列P\")\n",
    "display(P)\n",
    "print(\"対角化\")\n",
    "display(P.inv()*A*P)"
   ]
  },
  {
   "cell_type": "markdown",
   "metadata": {},
   "source": [
    "## 3"
   ]
  },
  {
   "cell_type": "markdown",
   "metadata": {},
   "source": [
    "### (a)"
   ]
  },
  {
   "cell_type": "code",
   "execution_count": 107,
   "metadata": {},
   "outputs": [
    {
     "data": {
      "image/png": "[encoded data removed]",
      "text/latex": [
       "$$x^{2} - y + 1$$"
      ],
      "text/plain": [
       " 2        \n",
       "x  - y + 1"
      ]
     },
     "metadata": {},
     "output_type": "display_data"
    },
    {
     "data": {
      "image/png": "[encoded data removed]",
      "text/latex": [
       "$$2 x$$"
      ],
      "text/plain": [
       "2⋅x"
      ]
     },
     "metadata": {},
     "output_type": "display_data"
    },
    {
     "data": {
      "image/png": "[encoded data removed]",
      "text/latex": [
       "$$- t^{2} + 2 t x - y + 1$$"
      ],
      "text/plain": [
       "   2                \n",
       "- t  + 2⋅t⋅x - y + 1"
      ]
     },
     "metadata": {},
     "output_type": "display_data"
    },
    {
     "data": {
      "image/png": "[encoded data removed]",
      "text/latex": [
       "$$- 2 a t + 2 a + t^{2} - 1$$"
      ],
      "text/plain": [
       "                2    \n",
       "-2⋅a⋅t + 2⋅a + t  - 1"
      ]
     },
     "metadata": {},
     "output_type": "display_data"
    },
    {
     "data": {
      "image/png": "[encoded data removed]",
      "text/latex": [
       "$$\\left [ 1, \\quad 2 a - 1\\right ]$$"
      ],
      "text/plain": [
       "[1, 2⋅a - 1]"
      ]
     },
     "metadata": {},
     "output_type": "display_data"
    },
    {
     "data": {
      "image/png": "[encoded data removed]",
      "text/latex": [
       "$$1$$"
      ],
      "text/plain": [
       "1"
      ]
     },
     "metadata": {},
     "output_type": "display_data"
    },
    {
     "data": {
      "image/png": "[encoded data removed]",
      "text/latex": [
       "$$- 4 a^{2} + 4 a + x \\left(4 a - 2\\right) - y$$"
      ],
      "text/plain": [
       "     2                        \n",
       "- 4⋅a  + 4⋅a + x⋅(4⋅a - 2) - y"
      ]
     },
     "metadata": {},
     "output_type": "display_data"
    },
    {
     "data": {
      "image/png": "[encoded data removed]",
      "text/latex": [
       "$$2 x - y$$"
      ],
      "text/plain": [
       "2⋅x - y"
      ]
     },
     "metadata": {},
     "output_type": "display_data"
    }
   ],
   "source": [
    "x, y, a, t = symbols('x y a t ')\n",
    "\n",
    "def f(x):\n",
    "    return x**2 + 1 - y\n",
    "display(f(x))\n",
    "katamuki = diff(f(x),x)\n",
    "display(katamuki)\n",
    "#(t,t**2+1)\n",
    "sessen = katamuki.subs({x:t})*(x-t)+f(t)\n",
    "display(sessen.expand()) # ア, イ\n",
    "sessen_t = sessen.subs({x:a,y:2*a}).expand()*-1\n",
    "display(sessen_t) # ウ, エ, オ\n",
    "t_answers = solve(sessen_t,t)\n",
    "display(t_answers) # カ,キ,ク\n",
    "display(solve(t_answers[1] - t_answers[0])[0]) # ケ\n",
    "\n",
    "display(collect(sessen.subs({t:t_answers[1]}).factor(),x)) #コ, サ, シ, ス\n",
    "display(sessen.subs({t:t_answers[0]})) # セ"
   ]
  },
  {
   "cell_type": "markdown",
   "metadata": {},
   "source": [
    "### (b)"
   ]
  },
  {
   "cell_type": "code",
   "execution_count": 109,
   "metadata": {},
   "outputs": [
    {
     "data": {
      "image/png": "[encoded data removed]",
      "text/latex": [
       "$$\\left [ a - \\sqrt{a^{2} - 2 \\sqrt{2} a + 2}, \\quad a + \\sqrt{a^{2} - 2 \\sqrt{2} a + 2}\\right ]$$"
      ],
      "text/plain": [
       "⎡       _________________         _________________⎤\n",
       "⎢      ╱  2                      ╱  2              ⎥\n",
       "⎣a - ╲╱  a  - 2⋅√2⋅a + 2 , a + ╲╱  a  - 2⋅√2⋅a + 2 ⎦"
      ]
     },
     "metadata": {},
     "output_type": "display_data"
    }
   ],
   "source": [
    "x, y, a, t = symbols('x y a t ')\n",
    "\n",
    "def f(x):\n",
    "    return x**2 + 2 - y\n",
    "# display(f(x))\n",
    "katamuki_ = diff(f(x),x)\n",
    "# display(katamuki)\n",
    "#(a,sqrt(8)*a)\n",
    "sessen_ = katamuki_.subs({x:t})*(x-t)+f(t)\n",
    "# display(sessen.expand()) # ア, イ\n",
    "sessen_t_ = sessen_.subs({x:a,y:sqrt(8)*a}).expand()*-1\n",
    "# display(sessen_t) # ウ, エ, オ\n",
    "t_answers_ = solve(sessen_t_,t)\n",
    "display(t_answers_) # カ,キ,ク"
   ]
  },
  {
   "cell_type": "markdown",
   "metadata": {},
   "source": [
    "## 4"
   ]
  },
  {
   "cell_type": "markdown",
   "metadata": {},
   "source": [
    "### (a)"
   ]
  },
  {
   "cell_type": "code",
   "execution_count": 114,
   "metadata": {},
   "outputs": [
    {
     "data": {
      "image/png": "[encoded data removed]",
      "text/latex": [
       "$$- 4 a^{2} + 4 a + x \\left(4 a - 2\\right) - y$$"
      ],
      "text/plain": [
       "     2                        \n",
       "- 4⋅a  + 4⋅a + x⋅(4⋅a - 2) - y"
      ]
     },
     "metadata": {},
     "output_type": "display_data"
    },
    {
     "data": {
      "image/png": "[encoded data removed]",
      "text/latex": [
       "$$- 4 a^{2} + 4 a - r$$"
      ],
      "text/plain": [
       "     2          \n",
       "- 4⋅a  + 4⋅a - r"
      ]
     },
     "metadata": {},
     "output_type": "display_data"
    }
   ],
   "source": [
    "r = symbols('r')\n",
    "houteisiki_1 = collect(sessen.subs({t:t_answers[1]}).factor(),x)\n",
    "display(houteisiki_1)\n",
    "houteisiki_r = houteisiki_1.subs({x:0,y:r})\n",
    "display(houteisiki_r) # シ, ス\n",
    "display(solve(solve(houteisiki_r,r),a)) # ソ, タ\n"
   ]
  },
  {
   "cell_type": "code",
   "execution_count": 132,
   "metadata": {},
   "outputs": [
    {
     "data": {
      "image/png": "[encoded data removed]",
      "text/latex": [
       "$$\\left [ 4 a \\left(- a + 1\\right)\\right ]$$"
      ],
      "text/plain": [
       "[4⋅a⋅(-a + 1)]"
      ]
     },
     "metadata": {},
     "output_type": "display_data"
    }
   ],
   "source": [
    "r_seppen = solve(houteisiki_r,r)\n",
    "display(r_seppen)"
   ]
  },
  {
   "cell_type": "code",
   "execution_count": 138,
   "metadata": {},
   "outputs": [
    {
     "data": {
      "image/png": "[encoded data removed]",
      "text/latex": [
       "$$- 2 a^{3} + 2 a^{2}$$"
      ],
      "text/plain": [
       "     3      2\n",
       "- 2⋅a  + 2⋅a "
      ]
     },
     "execution_count": 138,
     "metadata": {},
     "output_type": "execute_result"
    }
   ],
   "source": [
    "(a * r_seppen[0] * 1/2).expand() # チ, ツ, テ"
   ]
  },
  {
   "cell_type": "code",
   "execution_count": null,
   "metadata": {},
   "outputs": [],
   "source": []
  }
 ],
 "metadata": {
  "kernelspec": {
   "display_name": "Python 3",
   "language": "python",
   "name": "python3"
  },
  "language_info": {
   "codemirror_mode": {
    "name": "ipython",
    "version": 3
   },
   "file_extension": ".py",
   "mimetype": "text/x-python",
   "name": "python",
   "nbconvert_exporter": "python",
   "pygments_lexer": "ipython3",
   "version": "3.6.4"
  }
 },
 "nbformat": 4,
 "nbformat_minor": 2
}
