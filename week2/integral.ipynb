{
 "cells": [
  {
   "cell_type": "markdown",
   "metadata": {},
   "source": [
    "# 積分(integral)"
   ]
  },
  {
   "cell_type": "markdown",
   "metadata": {},
   "source": [
    "## 単純な積分(int)"
   ]
  },
  {
   "cell_type": "markdown",
   "metadata": {},
   "source": [
    "$$\n",
    "\\int \\ln x\\, dx = x \\ln x -x\n",
    "$$"
   ]
  },
  {
   "cell_type": "code",
   "execution_count": 1,
   "metadata": {},
   "outputs": [
    {
     "data": {
      "text/plain": [
       "x*log(x) - x"
      ]
     },
     "execution_count": 1,
     "metadata": {},
     "output_type": "execute_result"
    }
   ],
   "source": [
    "from sympy import *\n",
    "x,y = symbols('x y')\n",
    "\n",
    "integrate(ln(x),x)"
   ]
  },
  {
   "cell_type": "markdown",
   "metadata": {},
   "source": [
    "$$\n",
    "\\int_{-\\pi}^0 \\sin x \\, dx = -2\n",
    "$$"
   ]
  },
  {
   "cell_type": "code",
   "execution_count": 2,
   "metadata": {},
   "outputs": [
    {
     "data": {
      "text/plain": [
       "-2"
      ]
     },
     "execution_count": 2,
     "metadata": {},
     "output_type": "execute_result"
    }
   ],
   "source": [
    "integrate(sin(x),(x,-pi,0))"
   ]
  },
  {
   "cell_type": "markdown",
   "metadata": {},
   "source": [
    "$$\n",
    "\\int_0^2 \\frac{1}{\\sqrt{x(2-x)}} dx = \\pi\n",
    "$$"
   ]
  },
  {
   "cell_type": "code",
   "execution_count": 7,
   "metadata": {},
   "outputs": [
    {
     "data": {
      "text/plain": [
       "Integral(1/sqrt(x*(-x + 2)), (x, 0, 2))"
      ]
     },
     "execution_count": 7,
     "metadata": {},
     "output_type": "execute_result"
    }
   ],
   "source": [
    "integrate(1/sqrt(x*(2-x)),(x,0,2))"
   ]
  },
  {
   "cell_type": "markdown",
   "metadata": {},
   "source": [
    "$$\n",
    "\\int_{-\\infty}^{\\infty} \\frac{1}{x^2+4} dx = \\frac{\\pi}{2}\n",
    "$$"
   ]
  },
  {
   "cell_type": "code",
   "execution_count": 8,
   "metadata": {},
   "outputs": [
    {
     "data": {
      "text/plain": [
       "pi/2"
      ]
     },
     "execution_count": 8,
     "metadata": {},
     "output_type": "execute_result"
    }
   ],
   "source": [
    "integrate(1/(x**2+4),(x, -oo, oo))"
   ]
  },
  {
   "cell_type": "markdown",
   "metadata": {},
   "source": [
    "$$\n",
    "{\\rm eq}\\, = \\, \\sqrt{4-{x}^{2}} \\notag \\\\\n",
    "\\int {\\rm eq}\\,  dx = \\frac{1}{2}\\,x \\sqrt{4-{x}^{2}}+2\\,\\arcsin \\left( 1/2\\,x \\right) \\notag\n",
    "$$"
   ]
  },
  {
   "cell_type": "code",
   "execution_count": 9,
   "metadata": {},
   "outputs": [
    {
     "data": {
      "text/plain": [
       "x*sqrt(-x**2 + 4)/2 + 2*asin(x/2)"
      ]
     },
     "execution_count": 9,
     "metadata": {},
     "output_type": "execute_result"
    }
   ],
   "source": [
    "eq=sqrt(4-x**2)\n",
    "integrate(eq,x)"
   ]
  },
  {
   "cell_type": "markdown",
   "metadata": {},
   "source": [
    "$$\n",
    "{\\rm eq2}\\, = \\,\\exp({-{x}^{2}}) \\notag \\\\\n",
    "\\int_0^{zz} {\\rm eq}\\,  dx = \\frac{1}{2}\\, \\sqrt{\\pi }\\, \\mbox{erf} \\left(zz\\right) \\notag\n",
    "$$"
   ]
  },
  {
   "cell_type": "code",
   "execution_count": 10,
   "metadata": {},
   "outputs": [
    {
     "data": {
      "text/plain": [
       "sqrt(pi)*erf(zz)/2"
      ]
     },
     "execution_count": 10,
     "metadata": {},
     "output_type": "execute_result"
    }
   ],
   "source": [
    "zz = symbols('zz')\n",
    "eq2=exp(-x**2)\n",
    "integrate(eq2, (x,0,zz))"
   ]
  },
  {
   "cell_type": "markdown",
   "metadata": {},
   "source": [
    "### 部分積分(integration by parts) \n",
    "\n",
    "$$\n",
    "\\int x \\exp(x)\\, dx = x\\exp(x)-\\int \\exp(x)\\, {dx}\n",
    "$$"
   ]
  },
  {
   "cell_type": "markdown",
   "metadata": {},
   "source": [
    "## 置換(change of variables)による積分 "
   ]
  },
  {
   "cell_type": "code",
   "execution_count": 11,
   "metadata": {},
   "outputs": [
    {
     "name": "stdout",
     "output_type": "stream",
     "text": [
      "⌠       \n",
      "⎮   3   \n",
      "⎮ -u  du\n",
      "⌡       \n"
     ]
    }
   ],
   "source": [
    "a,b,u = symbols('a b u')\n",
    "\n",
    "i = Integral((cos(x)+1)**3*sin(x),x)\n",
    "pprint(i.transform(cos(x)+1,u))"
   ]
  },
  {
   "cell_type": "code",
   "execution_count": 12,
   "metadata": {},
   "outputs": [
    {
     "name": "stdout",
     "output_type": "stream",
     "text": [
      "cos(1) + 1      \n",
      "    ⌠           \n",
      "    ⎮       3   \n",
      "    ⎮      u  du\n",
      "    ⌡           \n",
      "cos(2) + 1      \n"
     ]
    },
    {
     "data": {
      "text/plain": [
       "-(cos(2) + 1)**4/4 + (cos(1) + 1)**4/4"
      ]
     },
     "execution_count": 12,
     "metadata": {},
     "output_type": "execute_result"
    }
   ],
   "source": [
    "i = Integral((cos(x)+1)**3*sin(x),(x,1,2))\n",
    "pprint(i.transform(cos(x)+1,u))\n",
    "integrate(u**3, (u, cos(2) + 1, cos(1) + 1))"
   ]
  },
  {
   "cell_type": "markdown",
   "metadata": {},
   "source": [
    "#### 部分分数(partial fraction)展開による積分 \n",
    "\n",
    "$$\n",
    "{\\rm pf1}\\, = \\frac{1}{1+x^3} = \\frac{1}{3}\\,{\\frac {-x+2}{{x}^{2}-x+1}}+ \\frac{1}{3\\,\\left( x+1 \\right) } \\notag \\\\\n",
    "\\int {\\rm pf1} dx =  -\\frac{1}{6}\\,\\ln  \\left( {x}^{2}-x+1 \\right) +\\frac{1}{3}\\, \\sqrt{3}\\arctan \\left( 1/3\\, \\left( 2\\,x-1 \\right)  \\sqrt{3} \\right) +\\frac{1}{3}\\,\\ln  \\left( x+1 \\right) \\notag\n",
    "$$"
   ]
  },
  {
   "cell_type": "code",
   "execution_count": 13,
   "metadata": {},
   "outputs": [
    {
     "name": "stdout",
     "output_type": "stream",
     "text": [
      "      x - 2            1    \n",
      "- ────────────── + ─────────\n",
      "    ⎛ 2        ⎞   3⋅(x + 1)\n",
      "  3⋅⎝x  - x + 1⎠            \n",
      "                                      ⎛2⋅√3⋅x   √3⎞\n",
      "                ⎛ 2        ⎞   √3⋅atan⎜────── - ──⎟\n",
      "log(x + 1)   log⎝x  - x + 1⎠          ⎝  3      3 ⎠\n",
      "────────── - ─────────────── + ────────────────────\n",
      "    3               6                   3          \n"
     ]
    }
   ],
   "source": [
    "eq = 1/(1+x**3)\n",
    "pprint(apart(eq))\n",
    "\n",
    "pprint(integrate(apart(eq),x))"
   ]
  },
  {
   "cell_type": "markdown",
   "metadata": {},
   "source": [
    "## 課題"
   ]
  },
  {
   "cell_type": "markdown",
   "metadata": {},
   "source": [
    "### 不定積分"
   ]
  },
  {
   "cell_type": "markdown",
   "metadata": {},
   "source": [
    "$\\int 4\\,x+3{dx}$"
   ]
  },
  {
   "cell_type": "code",
   "execution_count": 28,
   "metadata": {},
   "outputs": [
    {
     "data": {
      "text/plain": [
       "2*x**2 + 3*x"
      ]
     },
     "execution_count": 28,
     "metadata": {},
     "output_type": "execute_result"
    }
   ],
   "source": [
    "integrate(4*x+3,x)"
   ]
  },
  {
   "cell_type": "markdown",
   "metadata": {},
   "source": [
    "$ \\int  \\frac{1}{ 1+\\mbox{e}^{x} }{dx}$"
   ]
  },
  {
   "cell_type": "code",
   "execution_count": 29,
   "metadata": {},
   "outputs": [
    {
     "data": {
      "text/plain": [
       "x - log(exp(x) + 1)"
      ]
     },
     "execution_count": 29,
     "metadata": {},
     "output_type": "execute_result"
    }
   ],
   "source": [
    "integrate(1/(1+exp(x)),x)"
   ]
  },
  {
   "cell_type": "markdown",
   "metadata": {},
   "source": [
    "$ \\int  \\frac{1}{ \\mbox{e}^{-x}+\\mbox{e}^{x} }{dx}$"
   ]
  },
  {
   "cell_type": "code",
   "execution_count": 22,
   "metadata": {},
   "outputs": [
    {
     "data": {
      "text/plain": [
       "RootSum(4*_z**2 + 1, Lambda(_i, _i*log(2*_i + exp(x))))"
      ]
     },
     "execution_count": 22,
     "metadata": {},
     "output_type": "execute_result"
    }
   ],
   "source": [
    "integrate(1/(exp(-x)+exp(x)),x)"
   ]
  },
  {
   "cell_type": "markdown",
   "metadata": {},
   "source": [
    "$ \\int  \\sqrt{1-{x}^{2}}{dx}$"
   ]
  },
  {
   "cell_type": "code",
   "execution_count": 23,
   "metadata": {},
   "outputs": [
    {
     "data": {
      "text/plain": [
       "x*sqrt(-x**2 + 1)/2 + asin(x)/2"
      ]
     },
     "execution_count": 23,
     "metadata": {},
     "output_type": "execute_result"
    }
   ],
   "source": [
    "integrate(sqrt(1-x**2),x)"
   ]
  },
  {
   "cell_type": "markdown",
   "metadata": {},
   "source": [
    "### 定積分"
   ]
  },
  {
   "cell_type": "markdown",
   "metadata": {},
   "source": [
    "$ \\int _{0}^{\\pi } \\sin x{dx}$"
   ]
  },
  {
   "cell_type": "code",
   "execution_count": 24,
   "metadata": {},
   "outputs": [
    {
     "data": {
      "text/plain": [
       "2"
      ]
     },
     "execution_count": 24,
     "metadata": {},
     "output_type": "execute_result"
    }
   ],
   "source": [
    "integrate(sin(x),(x,0,pi))"
   ]
  },
  {
   "cell_type": "markdown",
   "metadata": {},
   "source": [
    "$ \\int _{0}^{1} \\arctan x{dx}$"
   ]
  },
  {
   "cell_type": "code",
   "execution_count": 26,
   "metadata": {},
   "outputs": [
    {
     "data": {
      "text/plain": [
       "-log(2)/2 + pi/4"
      ]
     },
     "execution_count": 26,
     "metadata": {},
     "output_type": "execute_result"
    }
   ],
   "source": [
    "integrate(atan(x),(x,0,1))"
   ]
  },
  {
   "cell_type": "markdown",
   "metadata": {},
   "source": [
    "$ \\int _{-2}^{2} \\frac{1}{ \\sqrt{4-{x}^{2}} }{dx}$"
   ]
  },
  {
   "cell_type": "code",
   "execution_count": 30,
   "metadata": {},
   "outputs": [
    {
     "data": {
      "text/plain": [
       "pi"
      ]
     },
     "execution_count": 30,
     "metadata": {},
     "output_type": "execute_result"
    }
   ],
   "source": [
    "integrate(1/sqrt(4-x**2),(x,-2,2))"
   ]
  },
  {
   "cell_type": "markdown",
   "metadata": {},
   "source": [
    "$ \\int _{0}^{1} \\frac{1}{ {x}^{2}+x+1 }{dx}$"
   ]
  },
  {
   "cell_type": "code",
   "execution_count": 32,
   "metadata": {},
   "outputs": [
    {
     "data": {
      "text/plain": [
       "sqrt(3)*pi/9"
      ]
     },
     "execution_count": 32,
     "metadata": {},
     "output_type": "execute_result"
    }
   ],
   "source": [
    "integrate(1/(x**2+x+1),(x,0,1))"
   ]
  },
  {
   "cell_type": "markdown",
   "metadata": {},
   "source": [
    "### 発展問題"
   ]
  },
  {
   "cell_type": "markdown",
   "metadata": {},
   "source": [
    "$\\int \\int_{D} \\sqrt{x^2+y^2}dxdy\\,\\, D:0\\leq y \\leq x \\leq 1$"
   ]
  },
  {
   "cell_type": "code",
   "execution_count": 40,
   "metadata": {},
   "outputs": [
    {
     "data": {
      "text/plain": [
       "-y**3*(log(1 + sqrt(2))/6 + sqrt(2)/6) + log(1 + sqrt(2))/6 + sqrt(2)/6"
      ]
     },
     "execution_count": 40,
     "metadata": {},
     "output_type": "execute_result"
    }
   ],
   "source": [
    "x, y = symbols(\"x y\")\n",
    "f = sqrt(x ** 2 + y ** 2)\n",
    "integrate(f, (y, 0, x), (x, y, 1))"
   ]
  },
  {
   "cell_type": "code",
   "execution_count": null,
   "metadata": {},
   "outputs": [],
   "source": []
  }
 ],
 "metadata": {
  "kernelspec": {
   "display_name": "Python [conda env:anaconda3-4.2.0]",
   "language": "python",
   "name": "conda-env-anaconda3-4.2.0-py"
  },
  "language_info": {
   "codemirror_mode": {
    "name": "ipython",
    "version": 3
   },
   "file_extension": ".py",
   "mimetype": "text/x-python",
   "name": "python",
   "nbconvert_exporter": "python",
   "pygments_lexer": "ipython3",
   "version": "3.5.4"
  }
 },
 "nbformat": 4,
 "nbformat_minor": 2
}
